{
  "nbformat": 4,
  "nbformat_minor": 0,
  "metadata": {
    "colab": {
      "name": "bai thi.ipynb",
      "provenance": [],
      "authorship_tag": "ABX9TyNR3uVuqPgqq4TJV/67KSNh",
      "include_colab_link": true
    },
    "kernelspec": {
      "name": "python3",
      "display_name": "Python 3"
    },
    "language_info": {
      "name": "python"
    }
  },
  "cells": [
    {
      "cell_type": "markdown",
      "metadata": {
        "id": "view-in-github",
        "colab_type": "text"
      },
      "source": [
        "<a href=\"https://colab.research.google.com/github/QuocCuong2709/Thuc-hanh-toan-CC/blob/main/bai_thi.ipynb\" target=\"_parent\"><img src=\"https://colab.research.google.com/assets/colab-badge.svg\" alt=\"Open In Colab\"/></a>"
      ]
    },
    {
      "cell_type": "markdown",
      "source": [
        "# **Tich phan**"
      ],
      "metadata": {
        "id": "EJEizZahpMSp"
      }
    },
    {
      "cell_type": "code",
      "execution_count": 10,
      "metadata": {
        "colab": {
          "base_uri": "https://localhost:8080/",
          "height": 38
        },
        "id": "HTNmVwQHpFB8",
        "outputId": "eb749d08-ff54-466b-dc46-6e8ab0b0af68"
      },
      "outputs": [
        {
          "output_type": "execute_result",
          "data": {
            "text/plain": [
              "2 - 3*log(2)"
            ],
            "text/latex": "$\\displaystyle 2 - 3 \\log{\\left(2 \\right)}$"
          },
          "metadata": {},
          "execution_count": 10
        }
      ],
      "source": [
        "#1\n",
        "from sympy import Symbol, Integral \n",
        "x= Symbol('x') \n",
        "a = 2*x-1\n",
        "b = x+1\n",
        "f =a/b\n",
        "tichphan = Integral(f, (x, 0, 1)) \n",
        "tichphan.doit() "
      ]
    },
    {
      "cell_type": "code",
      "source": [
        "#2\n",
        "from sympy import Symbol, Integral \n",
        "x= Symbol('x') \n",
        "a = 2*x+1\n",
        "b = x*(x+1)\n",
        "f =a/b\n",
        "tichphan = Integral(f, (x, 0, 1)) \n",
        "tichphan.doit() "
      ],
      "metadata": {
        "colab": {
          "base_uri": "https://localhost:8080/",
          "height": 38
        },
        "id": "Cf0tsvklqs6M",
        "outputId": "9346ed65-46cb-4312-e3b4-8e178ed2158d"
      },
      "execution_count": 11,
      "outputs": [
        {
          "output_type": "execute_result",
          "data": {
            "text/plain": [
              "oo"
            ],
            "text/latex": "$\\displaystyle \\infty$"
          },
          "metadata": {},
          "execution_count": 11
        }
      ]
    },
    {
      "cell_type": "markdown",
      "source": [
        "# **Dao ham**"
      ],
      "metadata": {
        "id": "CsQ5mW3Er1gn"
      }
    },
    {
      "cell_type": "code",
      "source": [
        "#1\n",
        "from sympy import Symbol, Derivative\n",
        "x= Symbol('x') \n",
        "a=2*x-1\n",
        "b=x+2\n",
        "f=a/b\n",
        "Derivative(f,x).doit()\n",
        "\n"
      ],
      "metadata": {
        "colab": {
          "base_uri": "https://localhost:8080/",
          "height": 58
        },
        "id": "RGCx7EGjr4Sh",
        "outputId": "d32b60a0-545b-4185-decb-90a23311c269"
      },
      "execution_count": 13,
      "outputs": [
        {
          "output_type": "execute_result",
          "data": {
            "text/plain": [
              "2/(x + 2) - (2*x - 1)/(x + 2)**2"
            ],
            "text/latex": "$\\displaystyle \\frac{2}{x + 2} - \\frac{2 x - 1}{\\left(x + 2\\right)^{2}}$"
          },
          "metadata": {},
          "execution_count": 13
        }
      ]
    },
    {
      "cell_type": "code",
      "source": [
        "#2from sympy import Symbol, Derivative\n",
        "x= Symbol('x') \n",
        "a=x**4-5*x**2+4\n",
        "Derivative(a,x).doit()"
      ],
      "metadata": {
        "colab": {
          "base_uri": "https://localhost:8080/",
          "height": 39
        },
        "id": "toF-m82Tt2e_",
        "outputId": "4b8d751c-f7aa-4331-da76-e584711c0f52"
      },
      "execution_count": 14,
      "outputs": [
        {
          "output_type": "execute_result",
          "data": {
            "text/plain": [
              "4*x**3 - 10*x"
            ],
            "text/latex": "$\\displaystyle 4 x^{3} - 10 x$"
          },
          "metadata": {},
          "execution_count": 14
        }
      ]
    }
  ]
}