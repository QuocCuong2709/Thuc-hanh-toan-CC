{
  "nbformat": 4,
  "nbformat_minor": 0,
  "metadata": {
    "colab": {
      "name": "Untitled0.ipynb",
      "provenance": [],
      "collapsed_sections": [],
      "authorship_tag": "ABX9TyOcW0Nc9m1+lprn8b5rDczz",
      "include_colab_link": true
    },
    "kernelspec": {
      "name": "python3",
      "display_name": "Python 3"
    },
    "language_info": {
      "name": "python"
    }
  },
  "cells": [
    {
      "cell_type": "markdown",
      "metadata": {
        "id": "view-in-github",
        "colab_type": "text"
      },
      "source": [
        "<a href=\"https://colab.research.google.com/github/QuocCuong2709/Thuc-hanh-toan-CC/blob/main/adsadsad.ipynb\" target=\"_parent\"><img src=\"https://colab.research.google.com/assets/colab-badge.svg\" alt=\"Open In Colab\"/></a>"
      ]
    },
    {
      "cell_type": "code",
      "source": [
        "import networkx as nx\n",
        "g = nx.Graph()\n",
        "g.add_node('TP.HCM')\n",
        "g.add_node('Dong Nai')\n",
        "g.add_node('Ba Ria Vung Tau')\n",
        "g.add_node('Lam Dong')\n",
        "g.add_node('Can Tho')\n",
        "g.add_node('Long An')\n",
        "g.add_edge('TP.HCM', 'Dong Nai')\n",
        "g.add_edge('TP.HCM', 'Ba Ria Vung Tau')\n",
        "g.add_edge('TP.HCM', 'Long An')\n",
        "g.add_edge('Dong Nai', 'Lam Dong')\n",
        "g.add_edge('Dong Nai', 'Ba Ria Vung Tau')\n",
        "print (g.number_of_nodes()) \n",
        "print (g.number_of_edges())\n",
        "print (g.nodes())\n",
        "print (g.edges())\n",
        "print (g.degree('TP.HCM'))\n",
        "print (g.degree())\n",
        "print (list(g.neighbors('TP.HCM')))\n"
      ],
      "metadata": {
        "colab": {
          "base_uri": "https://localhost:8080/"
        },
        "id": "7FZqZOS7FWhX",
        "outputId": "308d8797-74a0-492e-9292-3c0466fadf41"
      },
      "execution_count": 3,
      "outputs": [
        {
          "output_type": "stream",
          "name": "stdout",
          "text": [
            "6\n",
            "5\n",
            "['TP.HCM', 'Dong Nai', 'Ba Ria Vung Tau', 'Lam Dong', 'Can Tho', 'Long An']\n",
            "[('TP.HCM', 'Dong Nai'), ('TP.HCM', 'Ba Ria Vung Tau'), ('TP.HCM', 'Long An'), ('Dong Nai', 'Lam Dong'), ('Dong Nai', 'Ba Ria Vung Tau')]\n",
            "3\n",
            "[('TP.HCM', 3), ('Dong Nai', 3), ('Ba Ria Vung Tau', 2), ('Lam Dong', 1), ('Can Tho', 0), ('Long An', 1)]\n",
            "['Dong Nai', 'Ba Ria Vung Tau', 'Long An']\n"
          ]
        }
      ]
    },
    {
      "cell_type": "code",
      "source": [
        "g.has_edge('Lam Dong', 'Long An')\n",
        "g.has_edge('Lam Dong', 'Can Tho')\n",
        "nx.shortest_path(g, 'Lam Dong', 'Long An')\n",
        "nx.shortest_path(g, 'Lam Dong', 'Can Tho') \n",
        "g.add_node('Tien Giang')\n",
        "g.add_edge('Tien Giang', 'Long An')\n",
        "g.add_edge('Tien Giang', 'Can Tho')\n",
        "nx.shortest_path(g, 'Lam Dong', 'Can Tho') \n",
        "nx.shortest_path_length(g, 'Lam Dong', 'Ba Ria Vung Tau')"
      ],
      "metadata": {
        "colab": {
          "base_uri": "https://localhost:8080/"
        },
        "id": "Tw0bMccfGUDc",
        "outputId": "cbd7a1c3-a59d-437e-b364-e3dd8a052c5a"
      },
      "execution_count": 8,
      "outputs": [
        {
          "output_type": "execute_result",
          "data": {
            "text/plain": [
              "2"
            ]
          },
          "metadata": {},
          "execution_count": 8
        }
      ]
    },
    {
      "cell_type": "code",
      "source": [
        "nx.shortest_path_length(g, 'Dong Nai', 'Ba Ria Vung Tau')\n"
      ],
      "metadata": {
        "colab": {
          "base_uri": "https://localhost:8080/"
        },
        "id": "oXiu1GF8HOsK",
        "outputId": "31d1f662-5d06-42ef-bf2e-6b9c52577bbd"
      },
      "execution_count": 9,
      "outputs": [
        {
          "output_type": "execute_result",
          "data": {
            "text/plain": [
              "1"
            ]
          },
          "metadata": {},
          "execution_count": 9
        }
      ]
    },
    {
      "cell_type": "code",
      "source": [
        "nx.shortest_path_length(g, 'Lam Dong', 'Long An') "
      ],
      "metadata": {
        "colab": {
          "base_uri": "https://localhost:8080/"
        },
        "id": "y6SIYKyTHQsU",
        "outputId": "d4783eaa-f322-4a8a-ce0f-830a5c87f288"
      },
      "execution_count": 10,
      "outputs": [
        {
          "output_type": "execute_result",
          "data": {
            "text/plain": [
              "3"
            ]
          },
          "metadata": {},
          "execution_count": 10
        }
      ]
    },
    {
      "cell_type": "code",
      "source": [
        ""
      ],
      "metadata": {
        "id": "zVp9YOjJFboV"
      },
      "execution_count": null,
      "outputs": []
    }
  ]
}