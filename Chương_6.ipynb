{
  "nbformat": 4,
  "nbformat_minor": 0,
  "metadata": {
    "colab": {
      "name": "Chương 6.ipynb",
      "provenance": [],
      "authorship_tag": "ABX9TyP74PhMXAek2QUsOcL21IQf",
      "include_colab_link": true
    },
    "kernelspec": {
      "name": "python3",
      "display_name": "Python 3"
    },
    "language_info": {
      "name": "python"
    }
  },
  "cells": [
    {
      "cell_type": "markdown",
      "metadata": {
        "id": "view-in-github",
        "colab_type": "text"
      },
      "source": [
        "<a href=\"https://colab.research.google.com/github/QuocCuong2709/Thuc-hanh-toan-CC/blob/main/Ch%C6%B0%C6%A1ng_6.ipynb\" target=\"_parent\"><img src=\"https://colab.research.google.com/assets/colab-badge.svg\" alt=\"Open In Colab\"/></a>"
      ]
    },
    {
      "cell_type": "markdown",
      "source": [
        "# **CHƯƠNG 6: HÀM SỐ, DÃY VÀ MỘT SỐ ỨNG DỤNG**"
      ],
      "metadata": {
        "id": "40vXogmbYV9q"
      }
    },
    {
      "cell_type": "markdown",
      "source": [
        "***Thực hành 1: Viết hàm đệ quy tính n!***"
      ],
      "metadata": {
        "id": "2x9KQIOPYkEq"
      }
    },
    {
      "cell_type": "code",
      "execution_count": 1,
      "metadata": {
        "id": "8ugWpaiVYM6s"
      },
      "outputs": [],
      "source": [
        "import math \n",
        "def giaithua(n):\n",
        "  if (n==0):\n",
        "    return 1\n",
        "  else:\n",
        "    return n*giaithua(n-1)"
      ]
    },
    {
      "cell_type": "code",
      "source": [
        "giaithua(3)"
      ],
      "metadata": {
        "colab": {
          "base_uri": "https://localhost:8080/"
        },
        "id": "pcgz3YqpYqi6",
        "outputId": "1ef03513-1078-4aae-a6e5-a6d8b81a1c13"
      },
      "execution_count": 2,
      "outputs": [
        {
          "output_type": "execute_result",
          "data": {
            "text/plain": [
              "6"
            ]
          },
          "metadata": {},
          "execution_count": 2
        }
      ]
    },
    {
      "cell_type": "markdown",
      "source": [
        "***Thực hành 2: Viết hàm đệ quy tính dãy số Fibonacci***"
      ],
      "metadata": {
        "id": "Xi_xQm6TYs_q"
      }
    },
    {
      "cell_type": "code",
      "source": [
        "def fibo(n):\n",
        "  if n ==0:\n",
        "    return 0\n",
        "  if n==1:\n",
        "    return 1\n",
        "  return fibo(n-1) + fibo(n-2)"
      ],
      "metadata": {
        "id": "ZL_VHDcfY3q6"
      },
      "execution_count": 3,
      "outputs": []
    },
    {
      "cell_type": "code",
      "source": [
        "fibo(4)"
      ],
      "metadata": {
        "colab": {
          "base_uri": "https://localhost:8080/"
        },
        "id": "bwoVn9u5Y62a",
        "outputId": "2fc5e8c0-2605-4416-92ba-360cb2d3032b"
      },
      "execution_count": 4,
      "outputs": [
        {
          "output_type": "execute_result",
          "data": {
            "text/plain": [
              "3"
            ]
          },
          "metadata": {},
          "execution_count": 4
        }
      ]
    },
    {
      "cell_type": "code",
      "source": [
        "fibo(6)"
      ],
      "metadata": {
        "colab": {
          "base_uri": "https://localhost:8080/"
        },
        "id": "NHtc4eDIY9Uq",
        "outputId": "9137faf8-f006-47cf-d16c-8bfdfa77d41a"
      },
      "execution_count": 5,
      "outputs": [
        {
          "output_type": "execute_result",
          "data": {
            "text/plain": [
              "8"
            ]
          },
          "metadata": {},
          "execution_count": 5
        }
      ]
    },
    {
      "cell_type": "markdown",
      "source": [
        "***Thực hành 3: Chứng minh dãy có giới hạn và tìm giới hạn của dãy***"
      ],
      "metadata": {
        "id": "QpTF3yZiY-66"
      }
    },
    {
      "cell_type": "code",
      "source": [
        "def an_exp_an(n):\n",
        "  if n==1:\n",
        "    return 1.0/2\n",
        "  else:\n",
        "    return an_exp_an(n-1)**an_exp_an(n-1)"
      ],
      "metadata": {
        "id": "KAOa0hglZCGq"
      },
      "execution_count": 6,
      "outputs": []
    },
    {
      "cell_type": "code",
      "source": [
        "an_exp_an(1)"
      ],
      "metadata": {
        "colab": {
          "base_uri": "https://localhost:8080/"
        },
        "id": "xdeVIZkKZD4j",
        "outputId": "3b2ce61c-75a1-4e96-e029-8abf442d1692"
      },
      "execution_count": 7,
      "outputs": [
        {
          "output_type": "execute_result",
          "data": {
            "text/plain": [
              "0.5"
            ]
          },
          "metadata": {},
          "execution_count": 7
        }
      ]
    },
    {
      "cell_type": "code",
      "source": [
        "an_exp_an(2)"
      ],
      "metadata": {
        "colab": {
          "base_uri": "https://localhost:8080/"
        },
        "id": "t1dhR3lmZFtT",
        "outputId": "113bf080-1faa-4378-b5fd-e26d16f7725f"
      },
      "execution_count": 8,
      "outputs": [
        {
          "output_type": "execute_result",
          "data": {
            "text/plain": [
              "0.7071067811865476"
            ]
          },
          "metadata": {},
          "execution_count": 8
        }
      ]
    },
    {
      "cell_type": "code",
      "source": [
        "an_exp_an(3)"
      ],
      "metadata": {
        "colab": {
          "base_uri": "https://localhost:8080/"
        },
        "id": "ybt1U55OZHsS",
        "outputId": "0d5eb0a8-e856-42e3-b3bd-31bc9167be67"
      },
      "execution_count": 9,
      "outputs": [
        {
          "output_type": "execute_result",
          "data": {
            "text/plain": [
              "0.7826540273556803"
            ]
          },
          "metadata": {},
          "execution_count": 9
        }
      ]
    },
    {
      "cell_type": "code",
      "source": [
        "an_exp_an(10)"
      ],
      "metadata": {
        "colab": {
          "base_uri": "https://localhost:8080/"
        },
        "id": "ETEOjVgDZJ36",
        "outputId": "adbf0178-9ddd-4ca8-f276-2a2e906795bb"
      },
      "execution_count": 10,
      "outputs": [
        {
          "output_type": "execute_result",
          "data": {
            "text/plain": [
              "0.9176411981636667"
            ]
          },
          "metadata": {},
          "execution_count": 10
        }
      ]
    },
    {
      "cell_type": "markdown",
      "source": [
        "***Thực hành 4: Chứng minh dãy có giới hạn và tìm giới hạn của dãy***"
      ],
      "metadata": {
        "id": "xAyJpwHdZL15"
      }
    },
    {
      "cell_type": "code",
      "source": [
        "def bai4(n):\n",
        "  if n == 1:\n",
        "    return 4\n",
        "  else:\n",
        "    return 5.0/(6-bai4(n-1))"
      ],
      "metadata": {
        "id": "jyze2qSiZO-C"
      },
      "execution_count": 11,
      "outputs": []
    },
    {
      "cell_type": "code",
      "source": [
        "bai4(5)"
      ],
      "metadata": {
        "colab": {
          "base_uri": "https://localhost:8080/"
        },
        "id": "WoXrLUEhZXda",
        "outputId": "9b673c0d-6ee3-4c51-fe76-87a0f8c85695"
      },
      "execution_count": 12,
      "outputs": [
        {
          "output_type": "execute_result",
          "data": {
            "text/plain": [
              "1.019108280254777"
            ]
          },
          "metadata": {},
          "execution_count": 12
        }
      ]
    },
    {
      "cell_type": "code",
      "source": [
        "bai4(6)"
      ],
      "metadata": {
        "colab": {
          "base_uri": "https://localhost:8080/"
        },
        "id": "gYzWE5YEZZWR",
        "outputId": "e8ddbe69-973c-423a-c064-9468cdf3070c"
      },
      "execution_count": 13,
      "outputs": [
        {
          "output_type": "execute_result",
          "data": {
            "text/plain": [
              "1.0038363171355498"
            ]
          },
          "metadata": {},
          "execution_count": 13
        }
      ]
    },
    {
      "cell_type": "code",
      "source": [
        "bai4(7)"
      ],
      "metadata": {
        "colab": {
          "base_uri": "https://localhost:8080/"
        },
        "id": "ZuLDw5MoZa1q",
        "outputId": "bc73be44-5c6f-499f-d2a2-dd9bb59f957d"
      },
      "execution_count": 14,
      "outputs": [
        {
          "output_type": "execute_result",
          "data": {
            "text/plain": [
              "1.000767852572306"
            ]
          },
          "metadata": {},
          "execution_count": 14
        }
      ]
    },
    {
      "cell_type": "code",
      "source": [
        "bai4(100)"
      ],
      "metadata": {
        "colab": {
          "base_uri": "https://localhost:8080/"
        },
        "id": "Z0Cto25WZc1y",
        "outputId": "0e72af11-5108-4274-dafd-f6a36cd5c187"
      },
      "execution_count": 15,
      "outputs": [
        {
          "output_type": "execute_result",
          "data": {
            "text/plain": [
              "1.0"
            ]
          },
          "metadata": {},
          "execution_count": 15
        }
      ]
    },
    {
      "cell_type": "markdown",
      "source": [
        "***Thực hành 5: Xét giới hạn của dãy an = Fn+1/fn biết dãy Fibonacci được định nghĩa như sau:***"
      ],
      "metadata": {
        "id": "CAlVm3ULZei7"
      }
    },
    {
      "cell_type": "code",
      "source": [
        "def tisoFibo(n):\n",
        "  if n==1: \n",
        "    return 1 \n",
        "  else: \n",
        "    return 1.0 + 1.0/tisoFibo(n-1)\n",
        "for i in range(1, 11): \n",
        "  print (i, tisoFibo(i))"
      ],
      "metadata": {
        "colab": {
          "base_uri": "https://localhost:8080/"
        },
        "id": "Gz2_LBw0ZhdK",
        "outputId": "bfe274fe-532f-46dc-bc4b-6958354162e4"
      },
      "execution_count": 16,
      "outputs": [
        {
          "output_type": "stream",
          "name": "stdout",
          "text": [
            "1 1\n",
            "2 2.0\n",
            "3 1.5\n",
            "4 1.6666666666666665\n",
            "5 1.6\n",
            "6 1.625\n",
            "7 1.6153846153846154\n",
            "8 1.619047619047619\n",
            "9 1.6176470588235294\n",
            "10 1.6181818181818182\n"
          ]
        }
      ]
    },
    {
      "cell_type": "code",
      "source": [
        "from sympy import Symbol, plot, sqrt\n",
        "x = Symbol('x')\n",
        "f = (2*x+1)/(x+1)\n",
        "plot(f, (x,(1-sqrt(5))/2, 10))"
      ],
      "metadata": {
        "colab": {
          "base_uri": "https://localhost:8080/",
          "height": 314
        },
        "id": "AYsP9zG7Zkgi",
        "outputId": "1e84b542-b846-481a-977e-f6320bc86336"
      },
      "execution_count": 17,
      "outputs": [
        {
          "output_type": "display_data",
          "data": {
            "text/plain": [
              "<Figure size 432x288 with 1 Axes>"
            ],
            "image/png": "[encoded data removed]"
          },
          "metadata": {
            "needs_background": "light"
          }
        },
        {
          "output_type": "execute_result",
          "data": {
            "text/plain": [
              "<sympy.plotting.plot.Plot at 0x7f79a34c91d0>"
            ]
          },
          "metadata": {},
          "execution_count": 17
        }
      ]
    },
    {
      "cell_type": "markdown",
      "source": [
        "***3.1.Chương trình tổng quát về Gradient Ascent***"
      ],
      "metadata": {
        "id": "nJv0ZboSZrEE"
      }
    },
    {
      "cell_type": "code",
      "source": [
        "from sympy import Derivative, Symbol, sympify \n",
        "def grad_ascent(x0, ham_f1x, x):     \n",
        "  epsilon = 1e-6     \n",
        "  step_size = 1e-4     \n",
        "  x_old = x0     \n",
        "  x_new = x_old + step_size*ham_f1x.subs({x:x_old}).evalf()     \n",
        "  while abs(x_old - x_new) > epsilon:         \n",
        "    x_old = x_new         \n",
        "    x_new = x_old + step_size*ham_f1x.subs({x:x_old}).evalf()\n",
        "    return x_new "
      ],
      "metadata": {
        "id": "ILqv-SUtZsxz"
      },
      "execution_count": 18,
      "outputs": []
    },
    {
      "cell_type": "code",
      "source": [
        "if __name__ == '__main__':     \n",
        "  f = input('Nhap ham 1 bien (f): ')     \n",
        "  var = input('Nhap ten bien tuong ung (x): ')     \n",
        "  var0 = float(input('Nhap gia tri khoi dau cho bien x: ')) \n",
        "  try:         \n",
        "    f = sympify(f)  # kiem tra ham     \n",
        "  except SympifyError:         \n",
        "    print('Ham nhap khong hop le!')     \n",
        "  else:         \n",
        "    var = Symbol(var)         \n",
        "    d = Derivative(f, var).doit()         \n",
        "    var_max = grad_ascent(var0, d, var)         \n",
        "    print('{0}: {1}'.format(var.name, var_max))         \n",
        "    print('Maximum value: {0}'.format(f.subs({var:var_max})))"
      ],
      "metadata": {
        "colab": {
          "base_uri": "https://localhost:8080/"
        },
        "id": "LDptB_K1Zuis",
        "outputId": "cda0b373-d9ad-4278-f5df-3b8af7007140"
      },
      "execution_count": 19,
      "outputs": [
        {
          "output_type": "stream",
          "name": "stdout",
          "text": [
            "Nhap ham 1 bien (f): 24*25*sin(2*theta)/9\n",
            "Nhap ten bien tuong ung (x): theta\n",
            "Nhap gia tri khoi dau cho bien x: 0.001\n",
            "theta: 0.0276611618770395\n",
            "Maximum value: 3.68627390187811\n"
          ]
        }
      ]
    },
    {
      "cell_type": "code",
      "source": [
        "from sympy import Derivative, Symbol, sympify \n",
        "def grad_ascent(x0, ham_f1x, x):     \n",
        "  epsilon = 1e-6     \n",
        "  step_size = 1e-4     \n",
        "  x_old = x0     \n",
        "  x_new = x_old + step_size*ham_f1x.subs({x:x_old}).evalf()     \n",
        "  while abs(x_old - x_new) > epsilon:         \n",
        "    x_old = x_new         \n",
        "    x_new = x_old + step_size*ham_f1x.subs({x:x_old}).evalf()\n",
        "    return x_new "
      ],
      "metadata": {
        "id": "ZAVIjrhXaI8L"
      },
      "execution_count": 20,
      "outputs": []
    },
    {
      "cell_type": "code",
      "source": [
        "if __name__ == '__main__':     \n",
        "  f = input('Nhap ham 1 bien (f): ')     \n",
        "  var = input('Nhap ten bien tuong ung (x): ')     \n",
        "  var0 = float(input('Nhap gia tri khoi dau cho bien x: ')) \n",
        "  try:         \n",
        "    f = sympify(f)  # kiem tra ham     \n",
        "  except SympifyError:         \n",
        "    print('Ham nhap khong hop le!')     \n",
        "  else:         \n",
        "    var = Symbol(var)         \n",
        "    d = Derivative(f, var).doit()         \n",
        "    var_max = grad_ascent(var0, d, var)         \n",
        "    print('{0}: {1}'.format(var.name, var_max))         \n",
        "    print('Maximum value: {0}'.format(f.subs({var:var_max})))"
      ],
      "metadata": {
        "colab": {
          "base_uri": "https://localhost:8080/"
        },
        "id": "t3T0QQV5aKrL",
        "outputId": "593f001f-3e79-412b-9a68-dcd3adff4fcc"
      },
      "execution_count": 21,
      "outputs": [
        {
          "output_type": "stream",
          "name": "stdout",
          "text": [
            "Nhap ham 1 bien (f):  x**5-30*x**3+50*x\n",
            "Nhap ten bien tuong ung (x): \n",
            "Nhap gia tri khoi dau cho bien x: 0.5\n",
            ": None\n",
            "Maximum value: x**5 - 30*x**3 + 50*x\n"
          ]
        }
      ]
    },
    {
      "cell_type": "markdown",
      "source": [
        " ***3.2.Các lưu ý về giá trị khởi tạo ban đầu (initial value)***"
      ],
      "metadata": {
        "id": "HyWOlD_Ba4S6"
      }
    },
    {
      "cell_type": "code",
      "source": [
        "from sympy import Derivative, Symbol, sympify \n",
        "def grad_ascent(x0, ham_f1x, x):     \n",
        "  epsilon = 1e-6     \n",
        "  step_size = 1e-4     \n",
        "  x_old = x0     \n",
        "  x_new = x_old + step_size*ham_f1x.subs({x:x_old}).evalf()     \n",
        "  while abs(x_old - x_new) > epsilon:         \n",
        "    x_old = x_new         \n",
        "    x_new = x_old + step_size*ham_f1x.subs({x:x_old}).evalf()\n",
        "    return x_new \n",
        "if __name__ == '__main__':     \n",
        "  f = input('Nhap ham 1 bien (f): ')     \n",
        "  var = input('Nhap ten bien tuong ung (x): ')     \n",
        "  var0 = float(input('Nhap gia tri khoi dau cho bien x: ')) \n",
        "  try:         \n",
        "    f = sympify(f)  # kiem tra ham     \n",
        "  except SympifyError:\n",
        "    print('Ham nhap khong hop le!')     \n",
        "  else:         \n",
        "    var = Symbol(var)         \n",
        "    d = Derivative(f, var).doit()         \n",
        "    var_max = grad_ascent(var0, d, var)         \n",
        "    print('{0}: {1}'.format(var.name, var_max))         \n",
        "    print('Maximum value: {0}'.format(f.subs({var:var_max})))"
      ],
      "metadata": {
        "colab": {
          "base_uri": "https://localhost:8080/"
        },
        "id": "PIYTepbabZZb",
        "outputId": "4d695a0a-bceb-4977-f286-71f5ef6d3e5b"
      },
      "execution_count": 23,
      "outputs": [
        {
          "output_type": "stream",
          "name": "stdout",
          "text": [
            "Nhap ham 1 bien (f): x**5-30*x**3+50*x \n",
            "Nhap ten bien tuong ung (x): x\n",
            "Nhap gia tri khoi dau cho bien x: -2\n",
            "x: -2.04645836419208\n",
            "Maximum value: 118.900212174206\n"
          ]
        }
      ]
    },
    {
      "cell_type": "code",
      "source": [
        "from sympy import Derivative, Symbol, sympify \n",
        "def grad_ascent(x0, ham_f1x, x):     \n",
        "  epsilon = 1e-6     \n",
        "  step_size = 1e-4     \n",
        "  x_old = x0     \n",
        "  x_new = x_old + step_size*ham_f1x.subs({x:x_old}).evalf()     \n",
        "  while abs(x_old - x_new) > epsilon:         \n",
        "    x_old = x_new         \n",
        "    x_new = x_old + step_size*ham_f1x.subs({x:x_old}).evalf()\n",
        "    return x_new \n",
        "if __name__ == '__main__':     \n",
        "  f = input('Nhap ham 1 bien (f): ')     \n",
        "  var = input('Nhap ten bien tuong ung (x): ')     \n",
        "  var0 = float(input('Nhap gia tri khoi dau cho bien x: ')) \n",
        "  try:         \n",
        "    f = sympify(f)  # kiem tra ham     \n",
        "  except SympifyError:\n",
        "    print('Ham nhap khong hop le!')     \n",
        "  else:         \n",
        "    var = Symbol(var)         \n",
        "    d = Derivative(f, var).doit()         \n",
        "    var_max = grad_ascent(var0, d, var)         \n",
        "    print('{0}: {1}'.format(var.name, var_max))         \n",
        "    print('Maximum value: {0}'.format(f.subs({var:var_max})))"
      ],
      "metadata": {
        "colab": {
          "base_uri": "https://localhost:8080/"
        },
        "id": "iXi-Ta5ncgMS",
        "outputId": "fc7581e7-bb7a-4c22-8f2a-3869be667ba0"
      },
      "execution_count": 24,
      "outputs": [
        {
          "output_type": "stream",
          "name": "stdout",
          "text": [
            "Nhap ham 1 bien (f): x**5-30*x**3+50*x\n",
            "Nhap ten bien tuong ung (x): x\n",
            "Nhap gia tri khoi dau cho bien x: 0.5\n",
            "x: 0.505538100267393\n",
            "Maximum value: 21.4339319082246\n"
          ]
        }
      ]
    },
    {
      "cell_type": "markdown",
      "source": [
        "***3.3.Vai trò của kích thước bước nhảy (step_size) và Epsilon***"
      ],
      "metadata": {
        "id": "s7SPQ6DdcsDq"
      }
    },
    {
      "cell_type": "code",
      "source": [
        "from sympy import Derivative, Symbol, sympify\n",
        "def grad_ascent(x0,ham_f1x,x):\n",
        "  from sympy import solve, E\n",
        "  if not solve(ham_f1x):\n",
        "    print('Khong the tiep tuc, phuong trinh {0}=0 vo nghiem'.format(ham_f1x))\n",
        "    return\n",
        "  epsilon = 1e-6     \n",
        "  step_size = 1e-4     \n",
        "  x_old = x0 \n",
        "  x_new = x_old + step_size*ham_f1x.subs({x:x_old}).evalf()     \n",
        "  while abs(x_old - x_new) > epsilon:         \n",
        "    x_old = x_new         \n",
        "    x_new = x_old + step_size*ham_f1x.subs({x:x_old}).evalf()\n",
        "  return x_new\n",
        "f = input('Nhap ham 1 bien (f): ')     \n",
        "var = input('Nhap ten bien tuong ung (x): ')\n",
        "var0 = float(input('Nhap gia tri khoi dau cho bien x: '))\n",
        "try:\n",
        "  f = sympify(f)\n",
        "except SympifyError:\n",
        "  print('Ham nhap khong hop le!')\n",
        "else:\n",
        "  var = Symbol(var)         \n",
        "  d = Derivative(f, var).doit()         \n",
        "  var_max = grad_ascent(var0, d, var) \n",
        "  if var_max:               \n",
        "    print('{0}: {1}'.format(var.name, var_max))             \n",
        "    print('Maximum value: {0}'.format(f.subs({var:var_max})))"
      ],
      "metadata": {
        "colab": {
          "base_uri": "https://localhost:8080/"
        },
        "id": "SustYN0ccrWy",
        "outputId": "36c162cc-a0f8-45d2-e5af-6e0a2684e362"
      },
      "execution_count": 25,
      "outputs": [
        {
          "output_type": "stream",
          "name": "stdout",
          "text": [
            "Nhap ham 1 bien (f):  log(x)\n",
            "Nhap ten bien tuong ung (x): x\n",
            "Nhap gia tri khoi dau cho bien x: 0.1\n",
            "Khong the tiep tuc, phuong trinh 1/x=0 vo nghiem\n"
          ]
        }
      ]
    },
    {
      "cell_type": "code",
      "source": [
        "from sympy import Derivative, Symbol, sympify\n",
        "def grad_ascent(x0,ham_f1x,x):\n",
        "  from sympy import solve, E\n",
        "  if not solve(ham_f1x):\n",
        "    print('Khong the tiep tuc, phuong trinh {0}=0 vo nghiem'.format(ham_f1x))\n",
        "    return\n",
        "  epsilon = 1e-6     \n",
        "  step_size = 1e-4     \n",
        "  x_old = x0 \n",
        "  x_new = x_old + step_size*ham_f1x.subs({x:x_old}).evalf()     \n",
        "  while abs(x_old - x_new) > epsilon:         \n",
        "    x_old = x_new         \n",
        "    x_new = x_old + step_size*ham_f1x.subs({x:x_old}).evalf()\n",
        "  return x_new\n",
        "f = input('Nhap ham 1 bien (f): ')     \n",
        "var = input('Nhap ten bien tuong ung (x): ')\n",
        "var0 = float(input('Nhap gia tri khoi dau cho bien x: '))\n",
        "try:\n",
        "  f = sympify(f)\n",
        "except SympifyError:\n",
        "  print('Ham nhap khong hop le!')\n",
        "else:\n",
        "  var = Symbol(var)         \n",
        "  d = Derivative(f, var).doit()         \n",
        "  var_max = grad_ascent(var0, d, var) \n",
        "  if var_max:               \n",
        "    print('{0}: {1}'.format(var.name, var_max))             \n",
        "    print('Maximum value: {0}'.format(f.subs({var:var_max})))"
      ],
      "metadata": {
        "colab": {
          "base_uri": "https://localhost:8080/"
        },
        "id": "eshuLlr3c4Pq",
        "outputId": "2928449e-4df1-487e-d4b2-879919e8cc3d"
      },
      "execution_count": 26,
      "outputs": [
        {
          "output_type": "stream",
          "name": "stdout",
          "text": [
            "Nhap ham 1 bien (f):  E**x\n",
            "Nhap ten bien tuong ung (x): x\n",
            "Nhap gia tri khoi dau cho bien x: 0.1\n",
            "Khong the tiep tuc, phuong trinh exp(x)=0 vo nghiem\n"
          ]
        }
      ]
    }
  ]
}