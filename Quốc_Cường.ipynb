{
  "nbformat": 4,
  "nbformat_minor": 0,
  "metadata": {
    "colab": {
      "name": "Quốc Cường.ipynb",
      "provenance": [],
      "collapsed_sections": [],
      "authorship_tag": "ABX9TyOn6v7VIh4/YMzzFUsiUBCH",
      "include_colab_link": true
    },
    "kernelspec": {
      "name": "python3",
      "display_name": "Python 3"
    },
    "language_info": {
      "name": "python"
    }
  },
  "cells": [
    {
      "cell_type": "markdown",
      "metadata": {
        "id": "view-in-github",
        "colab_type": "text"
      },
      "source": [
        "<a href=\"https://colab.research.google.com/github/QuocCuong2709/Thuc-hanh-toan-CC/blob/main/Qu%E1%BB%91c_C%C6%B0%E1%BB%9Dng.ipynb\" target=\"_parent\"><img src=\"https://colab.research.google.com/assets/colab-badge.svg\" alt=\"Open In Colab\"/></a>"
      ]
    },
    {
      "cell_type": "code",
      "execution_count": null,
      "metadata": {
        "id": "H0fFma1C9vCc"
      },
      "outputs": [],
      "source": [
        ""
      ]
    },
    {
      "cell_type": "markdown",
      "source": [
        "#Thực hành 1 Chương I\n"
      ],
      "metadata": {
        "id": "DC4ElyUq-RMh"
      }
    },
    {
      "cell_type": "code",
      "source": [
        ""
      ],
      "metadata": {
        "id": "GO7M3-d0AKmj"
      },
      "execution_count": null,
      "outputs": []
    },
    {
      "cell_type": "code",
      "source": [
        ""
      ],
      "metadata": {
        "id": "M2I76k9aAHXv"
      },
      "execution_count": null,
      "outputs": []
    },
    {
      "cell_type": "markdown",
      "source": [
        ""
      ],
      "metadata": {
        "id": "54b9EyhmAIMj"
      }
    },
    {
      "cell_type": "markdown",
      "source": [
        ""
      ],
      "metadata": {
        "id": "Hmjqj8VU_8Rc"
      }
    },
    {
      "cell_type": "markdown",
      "source": [
        ""
      ],
      "metadata": {
        "id": "XNe5bMPc_7J6"
      }
    },
    {
      "cell_type": "code",
      "source": [
        "N=10\n",
        "dayS = [1/2**k for k in range(0,N)]\n",
        "tongS=sum(dayS)\n",
        "print(tongS)"
      ],
      "metadata": {
        "colab": {
          "base_uri": "https://localhost:8080/"
        },
        "id": "3B5hyIza-nGx",
        "outputId": "acb5e467-211b-43da-f3c9-9408213a70bd"
      },
      "execution_count": 5,
      "outputs": [
        {
          "output_type": "stream",
          "name": "stdout",
          "text": [
            "1.998046875\n"
          ]
        }
      ]
    },
    {
      "cell_type": "markdown",
      "source": [
        ""
      ],
      "metadata": {
        "id": "TvdeR45h_--a"
      }
    },
    {
      "cell_type": "code",
      "source": [
        ""
      ],
      "metadata": {
        "id": "jNryStukAAM1"
      },
      "execution_count": null,
      "outputs": []
    },
    {
      "cell_type": "markdown",
      "source": [
        "#Thực hành 2\n",
        "*văn bản in nghiêng*"
      ],
      "metadata": {
        "id": "tP6k3zuVDpPv"
      }
    },
    {
      "cell_type": "code",
      "source": [
        "n=1000\n",
        "X=[2*k/n for k in range(0,n+1)]\n"
      ],
      "metadata": {
        "id": "YmnRP_JJDpoh"
      },
      "execution_count": 8,
      "outputs": []
    },
    {
      "cell_type": "code",
      "source": [
        "S=0\n",
        "for k in range(1,n+1):\n",
        "  S=S+X[k]**2 *(X[k]-X[k-1])\n",
        "  "
      ],
      "metadata": {
        "id": "G9z98FeQEGja"
      },
      "execution_count": 9,
      "outputs": []
    },
    {
      "cell_type": "code",
      "source": [
        "print(S)"
      ],
      "metadata": {
        "colab": {
          "base_uri": "https://localhost:8080/"
        },
        "id": "Bt4_YAckEqcg",
        "outputId": "4fcca678-ebeb-4394-83f5-c44adf869be0"
      },
      "execution_count": 11,
      "outputs": [
        {
          "output_type": "stream",
          "name": "stdout",
          "text": [
            "2.6706680000000027\n"
          ]
        }
      ]
    }
  ]
}