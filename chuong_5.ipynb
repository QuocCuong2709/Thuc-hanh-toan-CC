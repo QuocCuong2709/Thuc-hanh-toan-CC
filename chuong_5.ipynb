{
  "nbformat": 4,
  "nbformat_minor": 0,
  "metadata": {
    "colab": {
      "name": "chuong 5.ipynb",
      "provenance": [],
      "authorship_tag": "ABX9TyPJdGBy3ovJf7+UGbkGxUYQ",
      "include_colab_link": true
    },
    "kernelspec": {
      "name": "python3",
      "display_name": "Python 3"
    },
    "language_info": {
      "name": "python"
    }
  },
  "cells": [
    {
      "cell_type": "markdown",
      "metadata": {
        "id": "view-in-github",
        "colab_type": "text"
      },
      "source": [
        "<a href=\"https://colab.research.google.com/github/QuocCuong2709/Thuc-hanh-toan-CC/blob/main/chuong_5.ipynb\" target=\"_parent\"><img src=\"https://colab.research.google.com/assets/colab-badge.svg\" alt=\"Open In Colab\"/></a>"
      ]
    },
    {
      "cell_type": "markdown",
      "source": [
        "#thực hành 1: Lặp để tìm nghiệm "
      ],
      "metadata": {
        "id": "gWuG0v5ARO4w"
      }
    },
    {
      "cell_type": "code",
      "execution_count": null,
      "metadata": {
        "colab": {
          "base_uri": "https://localhost:8080/"
        },
        "id": "csKZ6kexQ-bs",
        "outputId": "d5fa789c-443d-47cc-a1fd-0fd93380d5cf"
      },
      "outputs": [
        {
          "output_type": "stream",
          "name": "stdout",
          "text": [
            "3\n"
          ]
        }
      ],
      "source": [
        "x = 3 \n",
        "print  (x) "
      ]
    },
    {
      "cell_type": "code",
      "source": [
        "import math\n",
        "x= math.sqrt(1+x)\n",
        "print (x) "
      ],
      "metadata": {
        "colab": {
          "base_uri": "https://localhost:8080/"
        },
        "id": "66wKwaTdRabW",
        "outputId": "9187f205-67fc-4055-f746-6e48ed0d7f87"
      },
      "execution_count": null,
      "outputs": [
        {
          "output_type": "stream",
          "name": "stdout",
          "text": [
            "1.6528916502810695\n"
          ]
        }
      ]
    },
    {
      "cell_type": "code",
      "source": [
        "x = math.sqrt(1+x)\n",
        "print (x) "
      ],
      "metadata": {
        "colab": {
          "base_uri": "https://localhost:8080/"
        },
        "id": "R8XRbNyORoa6",
        "outputId": "c7721111-f094-4340-a1bd-7fdb9bbf6ae3"
      },
      "execution_count": null,
      "outputs": [
        {
          "output_type": "stream",
          "name": "stdout",
          "text": [
            "1.7320508075688772\n"
          ]
        }
      ]
    },
    {
      "cell_type": "markdown",
      "source": [
        "#Thực hành 2: Lặp bằng while để tìm nghiệm "
      ],
      "metadata": {
        "id": "lIT1j6xvSD8y"
      }
    },
    {
      "cell_type": "code",
      "source": [
        "import math\n",
        "x = 3 \n",
        "lap = 1 \n",
        "while (x != math.sqrt(x+1)): \n",
        "  x = math.sqrt(x+1) \n",
        "  lap = lap  +1 \n",
        "\n",
        "x "
      ],
      "metadata": {
        "colab": {
          "base_uri": "https://localhost:8080/"
        },
        "id": "mLqLdbl3SHFZ",
        "outputId": "f53ddb25-0766-4974-9611-97d550021257"
      },
      "execution_count": null,
      "outputs": [
        {
          "output_type": "execute_result",
          "data": {
            "text/plain": [
              "1.618033988749895"
            ]
          },
          "metadata": {},
          "execution_count": 8
        }
      ]
    },
    {
      "cell_type": "code",
      "source": [
        "lap "
      ],
      "metadata": {
        "colab": {
          "base_uri": "https://localhost:8080/"
        },
        "id": "bA94Fm6RSa2-",
        "outputId": "b4be46d7-95a1-4ed4-c9a3-54153a5dfb93"
      },
      "execution_count": null,
      "outputs": [
        {
          "output_type": "execute_result",
          "data": {
            "text/plain": [
              "32"
            ]
          },
          "metadata": {},
          "execution_count": 9
        }
      ]
    },
    {
      "cell_type": "markdown",
      "source": [
        "#Thực hành 3: Giải phương trình bằng hàm solve trong sympy "
      ],
      "metadata": {
        "id": "dVN19lcKSaJq"
      }
    },
    {
      "cell_type": "code",
      "source": [
        "import sympy as sp \n",
        "from sympy import Symbol \n",
        "x = Symbol('x')\n",
        "sp.solve(x-sp.sqrt(1+x),x) "
      ],
      "metadata": {
        "colab": {
          "base_uri": "https://localhost:8080/"
        },
        "id": "7JRJ5dzYS5PB",
        "outputId": "42cda9bd-676e-492c-e496-85027210b9b2"
      },
      "execution_count": null,
      "outputs": [
        {
          "output_type": "execute_result",
          "data": {
            "text/plain": [
              "[1/2 + sqrt(5)/2]"
            ]
          },
          "metadata": {},
          "execution_count": 12
        }
      ]
    },
    {
      "cell_type": "markdown",
      "source": [
        "#Thực hành 4: Các phép toán trên vector "
      ],
      "metadata": {
        "id": "8bBFJFOpTHop"
      }
    },
    {
      "cell_type": "code",
      "source": [
        "import numpy as np \n",
        "v1 = np.array([1., 2., 3.])\n",
        "v2 = np.array([2., 1., 0.]) \n",
        "v3 = v1 + v2   \n",
        "v3  "
      ],
      "metadata": {
        "colab": {
          "base_uri": "https://localhost:8080/"
        },
        "id": "1_vcU0NOTMt5",
        "outputId": "c824f002-d4a6-40e1-cf7b-bc6943dbe818"
      },
      "execution_count": null,
      "outputs": [
        {
          "output_type": "execute_result",
          "data": {
            "text/plain": [
              "array([3., 3., 3.])"
            ]
          },
          "metadata": {},
          "execution_count": 14
        }
      ]
    },
    {
      "cell_type": "code",
      "source": [
        "3*v1  + 2*v2 "
      ],
      "metadata": {
        "colab": {
          "base_uri": "https://localhost:8080/"
        },
        "id": "fpgK-GAsTn8a",
        "outputId": "56e549f2-f55b-45db-e03b-c5aa4a31ec76"
      },
      "execution_count": null,
      "outputs": [
        {
          "output_type": "execute_result",
          "data": {
            "text/plain": [
              "array([7., 8., 9.])"
            ]
          },
          "metadata": {},
          "execution_count": 15
        }
      ]
    },
    {
      "cell_type": "code",
      "source": [
        " [1, 2, 3] + [2, 1, 0] "
      ],
      "metadata": {
        "colab": {
          "base_uri": "https://localhost:8080/"
        },
        "id": "iur6hCi3TuqY",
        "outputId": "f75c02b8-f45f-454c-c507-2e1d5c6689ff"
      },
      "execution_count": null,
      "outputs": [
        {
          "output_type": "execute_result",
          "data": {
            "text/plain": [
              "[1, 2, 3, 2, 1, 0]"
            ]
          },
          "metadata": {},
          "execution_count": 16
        }
      ]
    },
    {
      "cell_type": "code",
      "source": [
        "3*[1, 2, 3] + 2*[2, 1, 0] "
      ],
      "metadata": {
        "colab": {
          "base_uri": "https://localhost:8080/"
        },
        "id": "Aqo6p5kOT2nh",
        "outputId": "d08c52da-e14d-4870-c94b-1c434fd1ce14"
      },
      "execution_count": null,
      "outputs": [
        {
          "output_type": "execute_result",
          "data": {
            "text/plain": [
              "[1, 2, 3, 1, 2, 3, 1, 2, 3, 2, 1, 0, 2, 1, 0]"
            ]
          },
          "metadata": {},
          "execution_count": 17
        }
      ]
    },
    {
      "cell_type": "code",
      "source": [
        "v4 = np.hstack([v1, v2]) \n",
        "v4"
      ],
      "metadata": {
        "colab": {
          "base_uri": "https://localhost:8080/"
        },
        "id": "GCDY6s_dT8__",
        "outputId": "297e8e25-c852-4cb9-ea89-0ead20a3d89b"
      },
      "execution_count": null,
      "outputs": [
        {
          "output_type": "execute_result",
          "data": {
            "text/plain": [
              "array([1., 2., 3., 2., 1., 0.])"
            ]
          },
          "metadata": {},
          "execution_count": 19
        }
      ]
    },
    {
      "cell_type": "code",
      "source": [
        "np.dot(v1, v2) "
      ],
      "metadata": {
        "colab": {
          "base_uri": "https://localhost:8080/"
        },
        "id": "9_uNeFzhUBmm",
        "outputId": "402c56ec-326b-4abe-ca37-3a8c2f8c6898"
      },
      "execution_count": null,
      "outputs": [
        {
          "output_type": "execute_result",
          "data": {
            "text/plain": [
              "4.0"
            ]
          },
          "metadata": {},
          "execution_count": 20
        }
      ]
    },
    {
      "cell_type": "code",
      "source": [
        "angles = np.linspace(0, np.pi/2, 5)\n",
        "angles "
      ],
      "metadata": {
        "colab": {
          "base_uri": "https://localhost:8080/"
        },
        "id": "xXvaIwZOUFku",
        "outputId": "6e33f5be-a1db-4a9d-b50a-c43a97b84f72"
      },
      "execution_count": null,
      "outputs": [
        {
          "output_type": "execute_result",
          "data": {
            "text/plain": [
              "array([0.        , 0.39269908, 0.78539816, 1.17809725, 1.57079633])"
            ]
          },
          "metadata": {},
          "execution_count": 21
        }
      ]
    },
    {
      "cell_type": "code",
      "source": [
        "np.sin(angles) "
      ],
      "metadata": {
        "colab": {
          "base_uri": "https://localhost:8080/"
        },
        "id": "_67cM3pjUYUx",
        "outputId": "28903456-5c66-4240-ddf2-71b349f4e5e0"
      },
      "execution_count": null,
      "outputs": [
        {
          "output_type": "execute_result",
          "data": {
            "text/plain": [
              "array([0.        , 0.38268343, 0.70710678, 0.92387953, 1.        ])"
            ]
          },
          "metadata": {},
          "execution_count": 22
        }
      ]
    },
    {
      "cell_type": "markdown",
      "source": [
        "#Thực hành 5: Tính tổng các tích giữa ma trận và vector. Giả định gói thư viện numpy được đưa vào hệ thống có tên là np. "
      ],
      "metadata": {
        "id": "AM1VX78PUsI9"
      }
    },
    {
      "cell_type": "code",
      "source": [
        "import numpy as np \n",
        "goc = np.pi/3\n",
        "A = np.array([ [np.cos(goc), -np.sin(goc)],\n",
        "             [np.sin(goc),  np.cos(goc)] ])\n",
        "V = np.array([1. , 0. ])\n",
        "Y = np.dot(A, V) \n",
        "Y "
      ],
      "metadata": {
        "colab": {
          "base_uri": "https://localhost:8080/"
        },
        "id": "jvTpJ9EMU6R5",
        "outputId": "cd7cfa7f-b468-4464-f23f-5f8fd4b5e2cb"
      },
      "execution_count": null,
      "outputs": [
        {
          "output_type": "execute_result",
          "data": {
            "text/plain": [
              "array([0.5      , 0.8660254])"
            ]
          },
          "metadata": {},
          "execution_count": 26
        }
      ]
    },
    {
      "cell_type": "markdown",
      "source": [
        "#Thực hành 6: Tính toán đạo hàm trên 1 vector dữ liệu "
      ],
      "metadata": {
        "id": "FiievBeJVN7I"
      }
    },
    {
      "cell_type": "code",
      "source": [
        "from numpy import diff\n",
        "dx = 0.1 \n",
        "y = [1, 2, 3, 4, 4, 5, 6] \n",
        "dy = diff(y)/dx\n",
        "dy "
      ],
      "metadata": {
        "colab": {
          "base_uri": "https://localhost:8080/"
        },
        "id": "KrqAxeXuVPIf",
        "outputId": "f58b6e5a-80c9-4cf8-bcfe-f7d9f40a63ad"
      },
      "execution_count": null,
      "outputs": [
        {
          "output_type": "execute_result",
          "data": {
            "text/plain": [
              "array([10., 10., 10.,  0., 10., 10.])"
            ]
          },
          "metadata": {},
          "execution_count": 28
        }
      ]
    },
    {
      "cell_type": "code",
      "source": [
        " z = np.array([1, 2, 3, 4, 4, 5, 6])\n",
        " dz = diff(z)/dx \n",
        " dz "
      ],
      "metadata": {
        "colab": {
          "base_uri": "https://localhost:8080/"
        },
        "id": "DhCmJJIOVeCb",
        "outputId": "fe4a0f47-9427-4d9b-9598-bf991a85f794"
      },
      "execution_count": null,
      "outputs": [
        {
          "output_type": "execute_result",
          "data": {
            "text/plain": [
              "array([10., 10., 10.,  0., 10., 10.])"
            ]
          },
          "metadata": {},
          "execution_count": 29
        }
      ]
    },
    {
      "cell_type": "code",
      "source": [
        "from numpy import diff\n",
        "x = [.1, .2, .5, .6, .7, .8, .9]\n",
        "y = [1, 2, 3, 4, 4, 5, 6]\n",
        "dydx = diff(y)/diff(x)\n",
        "print (dydx) "
      ],
      "metadata": {
        "colab": {
          "base_uri": "https://localhost:8080/"
        },
        "id": "b5D6X41aV0w0",
        "outputId": "93f24fe0-102d-47a7-c408-859c63dd267c"
      },
      "execution_count": null,
      "outputs": [
        {
          "output_type": "stream",
          "name": "stdout",
          "text": [
            "[10.          3.33333333 10.          0.         10.         10.        ]\n"
          ]
        }
      ]
    },
    {
      "cell_type": "markdown",
      "source": [
        "#Thực hành 7: Một số hàm xử lý phẳng (không gian Euclide) "
      ],
      "metadata": {
        "id": "hWt_cjTsV87L"
      }
    },
    {
      "cell_type": "code",
      "source": [
        "from sympy.geometry import * \n",
        "# Tạo các điểm P1, P2, P3 và P4\n",
        "P1 = Point(0, 0) \n",
        "P2 = Point(3, 4)\n",
        "P3 = Point(2, -1)\n",
        "P4 = Point(-1, 5) \n",
        "# Tạo 2 đoạn đường S1 và S2:\n",
        "S1 = Segment(P1, P2)\n",
        "S2 = Segment(P3, P4) \n",
        "# Kiểm 3 điểm thẳng hàng:\n",
        "Point.is_collinear(P1, P2, P3)\n"
      ],
      "metadata": {
        "colab": {
          "base_uri": "https://localhost:8080/"
        },
        "id": "TMImdCDRV-Mb",
        "outputId": "a341acd0-d3dc-48d1-f737-c5d612e0baff"
      },
      "execution_count": null,
      "outputs": [
        {
          "output_type": "execute_result",
          "data": {
            "text/plain": [
              "False"
            ]
          },
          "metadata": {},
          "execution_count": 32
        }
      ]
    },
    {
      "cell_type": "code",
      "source": [
        "# Độ dài của đoạn đường S1 \n",
        "S1.length"
      ],
      "metadata": {
        "colab": {
          "base_uri": "https://localhost:8080/",
          "height": 37
        },
        "id": "M8hLs0obWfQA",
        "outputId": "349993bc-f1a9-4a37-b1de-7b5de95c8213"
      },
      "execution_count": null,
      "outputs": [
        {
          "output_type": "execute_result",
          "data": {
            "text/latex": "$\\displaystyle 5$",
            "text/plain": [
              "5"
            ]
          },
          "metadata": {},
          "execution_count": 34
        }
      ]
    },
    {
      "cell_type": "code",
      "source": [
        "# Lấy trung điểm của đoạn 2:\n",
        "S2.midpoint"
      ],
      "metadata": {
        "colab": {
          "base_uri": "https://localhost:8080/",
          "height": 58
        },
        "id": "-RHTLtZpWTu9",
        "outputId": "81ee3b94-0c02-47e6-a102-87ed6b8fb267"
      },
      "execution_count": null,
      "outputs": [
        {
          "output_type": "execute_result",
          "data": {
            "text/latex": "$\\displaystyle Point2D\\left(\\frac{1}{2}, 2\\right)$",
            "text/plain": [
              "Point2D(1/2, 2)"
            ]
          },
          "metadata": {},
          "execution_count": 35
        }
      ]
    },
    {
      "cell_type": "code",
      "source": [
        "# Tính độ dốc của đường S1 \n",
        "S1.slope "
      ],
      "metadata": {
        "colab": {
          "base_uri": "https://localhost:8080/",
          "height": 51
        },
        "id": "IStzTJVGWn5z",
        "outputId": "5f723253-eef5-4ee5-9f70-dd33fc831875"
      },
      "execution_count": null,
      "outputs": [
        {
          "output_type": "execute_result",
          "data": {
            "text/latex": "$\\displaystyle \\frac{4}{3}$",
            "text/plain": [
              "4/3"
            ]
          },
          "metadata": {},
          "execution_count": 36
        }
      ]
    },
    {
      "cell_type": "code",
      "source": [
        "# Tìm vị trí giao nhau giữa hai đoạn đường \n",
        "S1.intersection(S2) "
      ],
      "metadata": {
        "colab": {
          "base_uri": "https://localhost:8080/"
        },
        "id": "mTkgoDRfWta7",
        "outputId": "4520dc66-d875-48fa-ac0f-f22ddae41fbb"
      },
      "execution_count": null,
      "outputs": [
        {
          "output_type": "execute_result",
          "data": {
            "text/plain": [
              "[Point2D(9/10, 6/5)]"
            ]
          },
          "metadata": {},
          "execution_count": 37
        }
      ]
    },
    {
      "cell_type": "code",
      "source": [
        "# Góc giữa hai đoạn đường \n",
        "Segment.angle_between(S1, S2) "
      ],
      "metadata": {
        "colab": {
          "base_uri": "https://localhost:8080/",
          "height": 68
        },
        "id": "wyIssPs6WyTL",
        "outputId": "36d9c661-8d2a-4086-ab81-b659199138b1"
      },
      "execution_count": null,
      "outputs": [
        {
          "output_type": "execute_result",
          "data": {
            "text/latex": "$\\displaystyle \\operatorname{acos}{\\left(\\frac{\\sqrt{5}}{5} \\right)}$",
            "text/plain": [
              "acos(sqrt(5)/5)"
            ]
          },
          "metadata": {},
          "execution_count": 38
        }
      ]
    },
    {
      "cell_type": "code",
      "source": [
        "# Kiểm đoạn đường S1 có chứa điểm P3 hay không? \n",
        "S1.contains(P3) "
      ],
      "metadata": {
        "id": "_5d_Pn2kW6OK"
      },
      "execution_count": null,
      "outputs": []
    },
    {
      "cell_type": "code",
      "source": [
        "# Lập và xem phương trình đường thẳng L1 đi qua 2 điểm P1 và P2:\n",
        "L1 = Line(P1, P2) \n",
        "L1.equation()  "
      ],
      "metadata": {
        "colab": {
          "base_uri": "https://localhost:8080/",
          "height": 38
        },
        "id": "3bQmhE-PW_Lr",
        "outputId": "b2d884ff-325c-48c6-dda2-c60233d8b839"
      },
      "execution_count": null,
      "outputs": [
        {
          "output_type": "execute_result",
          "data": {
            "text/latex": "$\\displaystyle - 4 x + 3 y$",
            "text/plain": [
              "-4*x + 3*y"
            ]
          },
          "metadata": {},
          "execution_count": 39
        }
      ]
    },
    {
      "cell_type": "code",
      "source": [
        "# Kiểm tính song song:\n",
        "L1.is_parallel(S1) "
      ],
      "metadata": {
        "colab": {
          "base_uri": "https://localhost:8080/"
        },
        "id": "5exN5eJgXE4C",
        "outputId": "c3cc6328-e8f2-4bc4-bad9-f25bc63b109f"
      },
      "execution_count": null,
      "outputs": [
        {
          "output_type": "execute_result",
          "data": {
            "text/plain": [
              "True"
            ]
          },
          "metadata": {},
          "execution_count": 40
        }
      ]
    },
    {
      "cell_type": "code",
      "source": [
        "L1.is_parallel(S2) "
      ],
      "metadata": {
        "colab": {
          "base_uri": "https://localhost:8080/"
        },
        "id": "WRhwa0vVXJTK",
        "outputId": "b13e21b9-ebca-4e11-d8f7-0d8b5585c5d7"
      },
      "execution_count": null,
      "outputs": [
        {
          "output_type": "execute_result",
          "data": {
            "text/plain": [
              "False"
            ]
          },
          "metadata": {},
          "execution_count": 41
        }
      ]
    },
    {
      "cell_type": "markdown",
      "source": [
        "#Thực hành 8: Bằng phương pháp đồ thị, hãy cho biết giới hạn của hàm số "
      ],
      "metadata": {
        "id": "EYk-MISpXQ8q"
      }
    },
    {
      "cell_type": "code",
      "source": [
        "import sympy \n",
        "from sympy import * \n",
        "x = Symbol('x') \n",
        "f = x * sin(1/x) \n",
        "c = Symbol('c') \n",
        "delta = Symbol('delta') \n",
        "c = 0 \n",
        "delta = 1/4 \n",
        "sympy.plot(f,(x, c - delta, c + delta))\n",
        "sympy.plot(f, abs(x), -abs(x),(x, c - delta, c + delta)) "
      ],
      "metadata": {
        "colab": {
          "base_uri": "https://localhost:8080/",
          "height": 594
        },
        "id": "R3j1ZnyfXSLa",
        "outputId": "bf7de7c7-b0fc-4768-90f9-6956ba4de816"
      },
      "execution_count": null,
      "outputs": [
        {
          "output_type": "display_data",
          "data": {
            "image/png": "[encoded data removed]",
            "text/plain": [
              "<Figure size 432x288 with 1 Axes>"
            ]
          },
          "metadata": {
            "needs_background": "light"
          }
        },
        {
          "output_type": "display_data",
          "data": {
            "image/png": "[encoded data removed]",
            "text/plain": [
              "<Figure size 432x288 with 1 Axes>"
            ]
          },
          "metadata": {
            "needs_background": "light"
          }
        },
        {
          "output_type": "execute_result",
          "data": {
            "text/plain": [
              "<sympy.plotting.plot.Plot at 0x7f4039b42750>"
            ]
          },
          "metadata": {},
          "execution_count": 42
        }
      ]
    },
    {
      "cell_type": "markdown",
      "source": [
        "#Thực hành 9: Tìm giá trị cực đại của hàm "
      ],
      "metadata": {
        "id": "NloEOyCvYGXW"
      }
    },
    {
      "cell_type": "code",
      "source": [
        "from sympy import Symbol, solve, Derivative \n",
        "x = Symbol('x')\n",
        "f = -x**2+4*x-3 \n",
        "d1=Derivative(f, x).doit() \n",
        "cuctri = solve(d1) \n",
        "cuctri "
      ],
      "metadata": {
        "colab": {
          "base_uri": "https://localhost:8080/"
        },
        "id": "MS3mWn_GYPIQ",
        "outputId": "58743934-888c-45ef-efa7-f2f69d638bb5"
      },
      "execution_count": null,
      "outputs": [
        {
          "output_type": "execute_result",
          "data": {
            "text/plain": [
              "[2]"
            ]
          },
          "metadata": {},
          "execution_count": 43
        }
      ]
    },
    {
      "cell_type": "code",
      "source": [
        "A = cuctri[0] \n",
        "d2 = Derivative(d1, x).doit() \n",
        "d2.subs({x:A}).evalf() "
      ],
      "metadata": {
        "colab": {
          "base_uri": "https://localhost:8080/",
          "height": 37
        },
        "id": "i8kQp_JgYcf3",
        "outputId": "cd5ee1ef-f9fd-45fc-c503-79251a0742b2"
      },
      "execution_count": null,
      "outputs": [
        {
          "output_type": "execute_result",
          "data": {
            "text/latex": "$\\displaystyle -2.0$",
            "text/plain": [
              "-2.00000000000000"
            ]
          },
          "metadata": {},
          "execution_count": 44
        }
      ]
    },
    {
      "cell_type": "code",
      "source": [
        "x_min=0 \n",
        "x_max=4 \n",
        "f.subs({x:A}).evalf() "
      ],
      "metadata": {
        "colab": {
          "base_uri": "https://localhost:8080/",
          "height": 37
        },
        "id": "ZpJFP0J2Yg53",
        "outputId": "1b900369-19e0-46b7-b21a-85ff6b776a83"
      },
      "execution_count": null,
      "outputs": [
        {
          "output_type": "execute_result",
          "data": {
            "text/latex": "$\\displaystyle 1.0$",
            "text/plain": [
              "1.00000000000000"
            ]
          },
          "metadata": {},
          "execution_count": 45
        }
      ]
    },
    {
      "cell_type": "code",
      "source": [
        "f.subs({x:x_min}).evalf() "
      ],
      "metadata": {
        "colab": {
          "base_uri": "https://localhost:8080/",
          "height": 37
        },
        "id": "nBm8ejYRYp6a",
        "outputId": "29f33e01-3d30-48f6-8883-cfe78ffe1218"
      },
      "execution_count": null,
      "outputs": [
        {
          "output_type": "execute_result",
          "data": {
            "text/latex": "$\\displaystyle -3.0$",
            "text/plain": [
              "-3.00000000000000"
            ]
          },
          "metadata": {},
          "execution_count": 46
        }
      ]
    },
    {
      "cell_type": "code",
      "source": [
        " f.subs({x:x_max}).evalf() "
      ],
      "metadata": {
        "colab": {
          "base_uri": "https://localhost:8080/",
          "height": 37
        },
        "id": "ltSVKYytYyCK",
        "outputId": "3fac077d-4232-4923-cc90-73a18e357308"
      },
      "execution_count": null,
      "outputs": [
        {
          "output_type": "execute_result",
          "data": {
            "text/latex": "$\\displaystyle -3.0$",
            "text/plain": [
              "-3.00000000000000"
            ]
          },
          "metadata": {},
          "execution_count": 47
        }
      ]
    },
    {
      "cell_type": "markdown",
      "source": [
        "#Thực  hành  10:  Tìm  diện  tích  cực  đại  để  lắp  các  tấm  pin  mặt  trời  trên  một  sân  phẳng  có hình parabol "
      ],
      "metadata": {
        "id": "A07AYlXRY3g5"
      }
    },
    {
      "cell_type": "code",
      "source": [
        ""
      ],
      "metadata": {
        "id": "wqtd8bhbY2eq"
      },
      "execution_count": null,
      "outputs": []
    }
  ]
}