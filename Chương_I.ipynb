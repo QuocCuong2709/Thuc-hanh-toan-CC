{
  "nbformat": 4,
  "nbformat_minor": 0,
  "metadata": {
    "colab": {
      "name": "Chương I.ipynb",
      "provenance": [],
      "collapsed_sections": [],
      "authorship_tag": "ABX9TyN6JlauuAhR2Y23C+rVQ1ws",
      "include_colab_link": true
    },
    "kernelspec": {
      "name": "python3",
      "display_name": "Python 3"
    },
    "language_info": {
      "name": "python"
    }
  },
  "cells": [
    {
      "cell_type": "markdown",
      "metadata": {
        "id": "view-in-github",
        "colab_type": "text"
      },
      "source": [
        "<a href=\"https://colab.research.google.com/github/QuocCuong2709/Thuc-hanh-toan-CC/blob/main/Ch%C6%B0%C6%A1ng_I.ipynb\" target=\"_parent\"><img src=\"https://colab.research.google.com/assets/colab-badge.svg\" alt=\"Open In Colab\"/></a>"
      ]
    },
    {
      "cell_type": "code",
      "execution_count": null,
      "metadata": {
        "id": "H0fFma1C9vCc"
      },
      "outputs": [],
      "source": [
        ""
      ]
    },
    {
      "cell_type": "markdown",
      "source": [
        "#Thực hành 1 Chương I\n"
      ],
      "metadata": {
        "id": "DC4ElyUq-RMh"
      }
    },
    {
      "cell_type": "code",
      "source": [
        "N=10\n",
        "dayS = [1/2**k for k in range(0,N)]\n",
        "tongS=sum(dayS)\n",
        "print(tongS)"
      ],
      "metadata": {
        "colab": {
          "base_uri": "https://localhost:8080/"
        },
        "id": "3B5hyIza-nGx",
        "outputId": "b4af8b34-111c-491c-d12d-977201789ff1"
      },
      "execution_count": 4,
      "outputs": [
        {
          "output_type": "stream",
          "name": "stdout",
          "text": [
            "1.998046875\n"
          ]
        }
      ]
    },
    {
      "cell_type": "markdown",
      "source": [
        "#Thực hành 2\n",
        "*văn bản in nghiêng*"
      ],
      "metadata": {
        "id": "tP6k3zuVDpPv"
      }
    },
    {
      "cell_type": "code",
      "source": [
        "n=1000\n",
        "X=[2*k/n for k in range(0,n+1)]\n"
      ],
      "metadata": {
        "id": "YmnRP_JJDpoh"
      },
      "execution_count": 1,
      "outputs": []
    },
    {
      "cell_type": "code",
      "source": [
        "S=0\n",
        "for k in range(1,n+1):\n",
        "  S=S+X[k]**2 *(X[k]-X[k-1])\n",
        "  "
      ],
      "metadata": {
        "id": "G9z98FeQEGja"
      },
      "execution_count": 2,
      "outputs": []
    },
    {
      "cell_type": "code",
      "source": [
        "print(S)"
      ],
      "metadata": {
        "colab": {
          "base_uri": "https://localhost:8080/"
        },
        "id": "Bt4_YAckEqcg",
        "outputId": "0e8e537c-6a9a-4708-fe83-374aee2acff7"
      },
      "execution_count": 3,
      "outputs": [
        {
          "output_type": "stream",
          "name": "stdout",
          "text": [
            "2.6706680000000027\n"
          ]
        }
      ]
    },
    {
      "cell_type": "markdown",
      "source": [
        "#Thực hành 5"
      ],
      "metadata": {
        "id": "1sk79x5ZFepX"
      }
    },
    {
      "cell_type": "code",
      "source": [
        "from sympy import *\n",
        "x = Symbol('x')\n",
        "eq =(1+1/x)/(x-1)\n",
        "from sympy.solvers.solvers import denoms\n",
        "loai_tru=set()\n",
        "for d in denoms(eq):\n",
        "  for s in solve(d):\n",
        "    loai_tru.add(s)\n",
        "print(loai_tru)"
      ],
      "metadata": {
        "colab": {
          "base_uri": "https://localhost:8080/"
        },
        "id": "HJmQOT-4FdVl",
        "outputId": "79088627-5328-4fa3-fd9b-cfa64bd36212"
      },
      "execution_count": 19,
      "outputs": [
        {
          "output_type": "stream",
          "name": "stdout",
          "text": [
            "{0, 1}\n"
          ]
        }
      ]
    },
    {
      "cell_type": "markdown",
      "source": [
        ""
      ],
      "metadata": {
        "id": "Iey7YpmK7EcH"
      }
    },
    {
      "cell_type": "markdown",
      "source": [
        "#Thực hành 9\n"
      ],
      "metadata": {
        "id": "zXakN_0G9Vuc"
      }
    },
    {
      "cell_type": "code",
      "source": [
        "from sympy import limit, Symbol, S\n",
        "x= Symbol('x')\n",
        "Limit (1/x, x, S.Infinity)\n",
        "gioihan=Limit(1/x, x, S.Infinity)\n",
        "gioihan.doit()"
      ],
      "metadata": {
        "colab": {
          "base_uri": "https://localhost:8080/",
          "height": 37
        },
        "id": "V0YC6bySFX4Z",
        "outputId": "aa54a0f5-bcd2-4244-a02e-79c0d4159804"
      },
      "execution_count": 16,
      "outputs": [
        {
          "output_type": "execute_result",
          "data": {
            "text/latex": "$\\displaystyle 0$",
            "text/plain": [
              "0"
            ]
          },
          "metadata": {},
          "execution_count": 16
        }
      ]
    },
    {
      "cell_type": "markdown",
      "source": [
        ""
      ],
      "metadata": {
        "id": "HgtWUNApKyqC"
      }
    },
    {
      "cell_type": "code",
      "source": [
        "from sympy import Symbol, Limit, S\n",
        "p= Symbol('p',positive=True)\n",
        "r= Symbol('r',positive=True)\n",
        "t= Symbol('t',positive=True)\n",
        "n= Symbol('n',positive=True)\n",
        "Limit(p*(1+r/n)**(n*t), n,S.Infinity).doit()"
      ],
      "metadata": {
        "colab": {
          "base_uri": "https://localhost:8080/",
          "height": 38
        },
        "id": "vVfaOAxhK0wV",
        "outputId": "be39634b-fd1a-4928-9a6d-96950ac47af0"
      },
      "execution_count": 27,
      "outputs": [
        {
          "output_type": "execute_result",
          "data": {
            "text/latex": "$\\displaystyle p e^{r t}$",
            "text/plain": [
              "p*exp(r*t)"
            ]
          },
          "metadata": {},
          "execution_count": 27
        }
      ]
    },
    {
      "cell_type": "markdown",
      "source": [
        "#Thực hành 13\n"
      ],
      "metadata": {
        "id": "2b41S2pLAqYi"
      }
    },
    {
      "cell_type": "code",
      "source": [
        "from sympy import Symbol, Limit\n",
        "t= Symbol('t')\n",
        "St =5*t**2 + 2*t + 8 \n",
        "t1 = Symbol('t1')\n",
        "delta_t = Symbol('delta_t')\n",
        "St1= St.subs({t:t1})\n",
        "St1_delta=St.subs({t:t1 + delta_t})\n",
        "Limit((St1_delta-St1)/delta_t,delta_t,0).doit()"
      ],
      "metadata": {
        "colab": {
          "base_uri": "https://localhost:8080/",
          "height": 38
        },
        "id": "pYWmNNIhA3ku",
        "outputId": "2fe17544-4ea2-4c8a-dedd-83b2578b96bc"
      },
      "execution_count": 15,
      "outputs": [
        {
          "output_type": "execute_result",
          "data": {
            "text/latex": "$\\displaystyle 10 t_{1} + 2$",
            "text/plain": [
              "10*t1 + 2"
            ]
          },
          "metadata": {},
          "execution_count": 15
        }
      ]
    }
  ]
}