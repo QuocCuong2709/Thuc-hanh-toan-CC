{
  "nbformat": 4,
  "nbformat_minor": 0,
  "metadata": {
    "colab": {
      "name": "Untitled0.ipynb",
      "provenance": [],
      "authorship_tag": "ABX9TyPVJhAsEzoEtAEET+zhSAMu",
      "include_colab_link": true
    },
    "kernelspec": {
      "name": "python3",
      "display_name": "Python 3"
    },
    "language_info": {
      "name": "python"
    }
  },
  "cells": [
    {
      "cell_type": "markdown",
      "metadata": {
        "id": "view-in-github",
        "colab_type": "text"
      },
      "source": [
        "<a href=\"https://colab.research.google.com/github/QuocCuong2709/Thuc-hanh-toan-CC/blob/main/Ch%C6%B0%C6%A1ng_2.ipynb\" target=\"_parent\"><img src=\"https://colab.research.google.com/assets/colab-badge.svg\" alt=\"Open In Colab\"/></a>"
      ]
    },
    {
      "cell_type": "markdown",
      "source": [
        "#CHƯƠNG II"
      ],
      "metadata": {
        "id": "XrVed9-KFau1"
      }
    },
    {
      "cell_type": "markdown",
      "source": [
        "#Thực hàng 1\n"
      ],
      "metadata": {
        "id": "J21KXEdYGrb_"
      }
    },
    {
      "cell_type": "code",
      "source": [
        "f=\"a*b+c\"\n",
        "a=10\n",
        "b=6\n",
        "c=5\n",
        "eval(f)\n"
      ],
      "metadata": {
        "id": "2FLgPPQNFeqV",
        "outputId": "a2fd19ac-f94f-4eca-b3c4-c146cd889dec",
        "colab": {
          "base_uri": "https://localhost:8080/"
        }
      },
      "execution_count": null,
      "outputs": [
        {
          "output_type": "execute_result",
          "data": {
            "text/plain": [
              "65"
            ]
          },
          "metadata": {},
          "execution_count": 1
        }
      ]
    },
    {
      "cell_type": "markdown",
      "source": [
        "# Thực hành 2"
      ],
      "metadata": {
        "id": "3FxdOAaTHMSU"
      }
    },
    {
      "cell_type": "code",
      "source": [
        "from sympy import Symbol\n",
        "x = Symbol('x')\n",
        "y = Symbol('y')\n",
        "bt=x+y\n",
        "Thaytheso=bt.subs({x:7,y:8})\n",
        "Thaytheso"
      ],
      "metadata": {
        "id": "1SPb9FdbHQU1",
        "outputId": "f5f800f3-e78e-464a-99c7-b5aac89e691e",
        "colab": {
          "base_uri": "https://localhost:8080/",
          "height": 37
        }
      },
      "execution_count": null,
      "outputs": [
        {
          "output_type": "execute_result",
          "data": {
            "text/latex": "$\\displaystyle 15$",
            "text/plain": [
              "15"
            ]
          },
          "metadata": {},
          "execution_count": 6
        }
      ]
    },
    {
      "cell_type": "markdown",
      "source": [
        "#Thực hành 3"
      ],
      "metadata": {
        "id": "n1JemDCZKD_f"
      }
    },
    {
      "cell_type": "code",
      "source": [
        "ds_so=[5,6,9]\n",
        "ds_so[0]"
      ],
      "metadata": {
        "id": "blz_KijdKHbG",
        "outputId": "e0e0ec66-b07c-45c1-bcd7-d0c03c485084",
        "colab": {
          "base_uri": "https://localhost:8080/"
        }
      },
      "execution_count": null,
      "outputs": [
        {
          "output_type": "execute_result",
          "data": {
            "text/plain": [
              "5"
            ]
          },
          "metadata": {},
          "execution_count": 7
        }
      ]
    },
    {
      "cell_type": "code",
      "source": [
        "ds_so[1]"
      ],
      "metadata": {
        "id": "o-y4FjbgKZv_",
        "outputId": "56470c96-7b45-46bf-870f-6d182371c491",
        "colab": {
          "base_uri": "https://localhost:8080/"
        }
      },
      "execution_count": null,
      "outputs": [
        {
          "output_type": "execute_result",
          "data": {
            "text/plain": [
              "6"
            ]
          },
          "metadata": {},
          "execution_count": 8
        }
      ]
    },
    {
      "cell_type": "code",
      "source": [
        "ds_so[2]"
      ],
      "metadata": {
        "id": "RmyQNBKxKbrg",
        "outputId": "f524fb9c-ef5a-4ce6-f832-2692ac2184e4",
        "colab": {
          "base_uri": "https://localhost:8080/"
        }
      },
      "execution_count": null,
      "outputs": [
        {
          "output_type": "execute_result",
          "data": {
            "text/plain": [
              "9"
            ]
          },
          "metadata": {},
          "execution_count": 9
        }
      ]
    },
    {
      "cell_type": "markdown",
      "source": [
        "#Thực hành 4"
      ],
      "metadata": {
        "id": "BOoICIXhKyS-"
      }
    },
    {
      "cell_type": "code",
      "source": [
        "ds=[7,3,9]\n",
        "for so in ds:\n",
        "  print(so)\n"
      ],
      "metadata": {
        "id": "90O8-1VgK2S9",
        "outputId": "9ebaeb14-96fe-4ee7-91ea-309922f1f29a",
        "colab": {
          "base_uri": "https://localhost:8080/"
        }
      },
      "execution_count": null,
      "outputs": [
        {
          "output_type": "stream",
          "name": "stdout",
          "text": [
            "7\n",
            "3\n",
            "9\n"
          ]
        }
      ]
    },
    {
      "cell_type": "code",
      "source": [
        "ds=[7,11,14]\n",
        "for chiso,giatri in enumerate(ds):\n",
        "  print(chiso,giatri)"
      ],
      "metadata": {
        "id": "X49ntot4LL3f",
        "outputId": "3d478d92-928c-4bd6-bc49-bb0f751f7fcf",
        "colab": {
          "base_uri": "https://localhost:8080/"
        }
      },
      "execution_count": null,
      "outputs": [
        {
          "output_type": "stream",
          "name": "stdout",
          "text": [
            "0 7\n",
            "1 11\n",
            "2 14\n"
          ]
        }
      ]
    },
    {
      "cell_type": "markdown",
      "source": [
        "#Thực hành 5"
      ],
      "metadata": {
        "id": "Ku0I_--tLg-v"
      }
    },
    {
      "cell_type": "code",
      "source": [
        "x=[5,8,9]\n",
        "y=[4,5,6]\n",
        "from pylab import plot,show\n",
        "plot(x,y)\n",
        "show()"
      ],
      "metadata": {
        "id": "OyuxTUWcLjvu",
        "outputId": "41d7b369-7001-4190-d90b-90bc95f79285",
        "colab": {
          "base_uri": "https://localhost:8080/",
          "height": 265
        }
      },
      "execution_count": null,
      "outputs": [
        {
          "output_type": "display_data",
          "data": {
            "image/png": "[encoded data removed]",
            "text/plain": [
              "<Figure size 432x288 with 1 Axes>"
            ]
          },
          "metadata": {
            "needs_background": "light"
          }
        }
      ]
    },
    {
      "cell_type": "markdown",
      "source": [
        "#Thực hành 6"
      ],
      "metadata": {
        "id": "jecD7SC8MDKd"
      }
    },
    {
      "cell_type": "code",
      "source": [
        "x=[5,8,9]\n",
        "y=[4,5,6]\n",
        "from pylab import plot,show\n",
        "plot(x,y,marker='o')\n",
        "show"
      ],
      "metadata": {
        "id": "H8rSu1LoMF2k",
        "outputId": "0a85c6ce-9209-4635-da1c-19653dc3de49",
        "colab": {
          "base_uri": "https://localhost:8080/",
          "height": 282
        }
      },
      "execution_count": null,
      "outputs": [
        {
          "output_type": "execute_result",
          "data": {
            "text/plain": [
              "<function matplotlib.pyplot.show>"
            ]
          },
          "metadata": {},
          "execution_count": 17
        },
        {
          "output_type": "display_data",
          "data": {
            "image/png": "[encoded data removed]",
            "text/plain": [
              "<Figure size 432x288 with 1 Axes>"
            ]
          },
          "metadata": {
            "needs_background": "light"
          }
        }
      ]
    },
    {
      "cell_type": "markdown",
      "source": [
        "#thực hành 7"
      ],
      "metadata": {
        "id": "7aXjjXHVMruB"
      }
    },
    {
      "cell_type": "code",
      "source": [
        "HCM_rain =[12.4,3.2,7.4,5.4,14.2,45.6,48.4,34.3,12.6,25.4,22,9.3]\n",
        "thang =range(1,13)\n",
        "from pylab import plot,show\n",
        "plot (thang,HCM_rain,marker='o')\n",
        "show()\n"
      ],
      "metadata": {
        "id": "oAHy4t3xMuyK",
        "outputId": "b877c163-54fc-4aeb-8900-9508ee7e0542",
        "colab": {
          "base_uri": "https://localhost:8080/",
          "height": 266
        }
      },
      "execution_count": null,
      "outputs": [
        {
          "output_type": "display_data",
          "data": {
            "image/png": "[encoded data removed]",
            "text/plain": [
              "<Figure size 432x288 with 1 Axes>"
            ]
          },
          "metadata": {
            "needs_background": "light"
          }
        }
      ]
    },
    {
      "cell_type": "markdown",
      "source": [
        "#Thực hành 8"
      ],
      "metadata": {
        "id": "ykbNbWd-O6t3"
      }
    },
    {
      "cell_type": "code",
      "source": [
        "from sympy import Symbol,Derivative\n",
        "t= Symbol('t')\n",
        "st=8*t**2+7*t+5"
      ],
      "metadata": {
        "id": "Ss9cyZp7O-6w"
      },
      "execution_count": 24,
      "outputs": []
    },
    {
      "cell_type": "code",
      "source": [
        "Derivative(st,t)"
      ],
      "metadata": {
        "colab": {
          "base_uri": "https://localhost:8080/",
          "height": 52
        },
        "id": "ruWDKEshPm_S",
        "outputId": "6bcf4af6-555d-44a4-ecfc-349ca885ff26"
      },
      "execution_count": 25,
      "outputs": [
        {
          "output_type": "execute_result",
          "data": {
            "text/latex": "$\\displaystyle \\frac{d}{d t} \\left(8 t^{2} + 7 t + 5\\right)$",
            "text/plain": [
              "Derivative(8*t**2 + 7*t + 5, t)"
            ]
          },
          "metadata": {},
          "execution_count": 25
        }
      ]
    },
    {
      "cell_type": "code",
      "source": [
        "d=Derivative(st,t)\n",
        "d.doit()"
      ],
      "metadata": {
        "colab": {
          "base_uri": "https://localhost:8080/",
          "height": 38
        },
        "id": "_ChXAhaMQMpm",
        "outputId": "554bf9aa-85ef-4c5c-a22c-69514ed72437"
      },
      "execution_count": 26,
      "outputs": [
        {
          "output_type": "execute_result",
          "data": {
            "text/latex": "$\\displaystyle 16 t + 7$",
            "text/plain": [
              "16*t + 7"
            ]
          },
          "metadata": {},
          "execution_count": 26
        }
      ]
    },
    {
      "cell_type": "code",
      "source": [
        "d.doit().subs({t:1})"
      ],
      "metadata": {
        "colab": {
          "base_uri": "https://localhost:8080/",
          "height": 37
        },
        "id": "PUltHrVDQirJ",
        "outputId": "4397adf1-90b5-425b-912b-372119938734"
      },
      "execution_count": 27,
      "outputs": [
        {
          "output_type": "execute_result",
          "data": {
            "text/latex": "$\\displaystyle 23$",
            "text/plain": [
              "23"
            ]
          },
          "metadata": {},
          "execution_count": 27
        }
      ]
    },
    {
      "cell_type": "code",
      "source": [
        "t1=Symbol('t1')\n",
        "d.doit().subs({t:t1})"
      ],
      "metadata": {
        "colab": {
          "base_uri": "https://localhost:8080/",
          "height": 38
        },
        "id": "UBzdSiFXQu-S",
        "outputId": "aa17b2e5-1c04-4496-a585-2c496146e22e"
      },
      "execution_count": 28,
      "outputs": [
        {
          "output_type": "execute_result",
          "data": {
            "text/latex": "$\\displaystyle 16 t_{1} + 7$",
            "text/plain": [
              "16*t1 + 7"
            ]
          },
          "metadata": {},
          "execution_count": 28
        }
      ]
    },
    {
      "cell_type": "code",
      "source": [
        "t2=22\n",
        "d.doit().subs({t:t2})"
      ],
      "metadata": {
        "colab": {
          "base_uri": "https://localhost:8080/",
          "height": 37
        },
        "id": "f6D6W6KaQ8Nk",
        "outputId": "a8131b8f-c16b-4b10-98e8-1f5bb9dbadbd"
      },
      "execution_count": 30,
      "outputs": [
        {
          "output_type": "execute_result",
          "data": {
            "text/latex": "$\\displaystyle 359$",
            "text/plain": [
              "359"
            ]
          },
          "metadata": {},
          "execution_count": 30
        }
      ]
    },
    {
      "cell_type": "markdown",
      "source": [
        "#Thực hành 9"
      ],
      "metadata": {
        "id": "Cxkg0gfcRFTd"
      }
    },
    {
      "cell_type": "code",
      "source": [
        "from sympy import Symbol,Derivative\n",
        "x= Symbol('x')\n",
        "f=(x**3+x**2+x)*(x**2+x)"
      ],
      "metadata": {
        "id": "S1dfg5h7RI8p"
      },
      "execution_count": 31,
      "outputs": []
    },
    {
      "cell_type": "code",
      "source": [
        "Derivative(f,x).doit()"
      ],
      "metadata": {
        "colab": {
          "base_uri": "https://localhost:8080/",
          "height": 38
        },
        "id": "DhReeE0SRxUA",
        "outputId": "6bf4b161-d94d-4203-c010-d025bfadc4d9"
      },
      "execution_count": 32,
      "outputs": [
        {
          "output_type": "execute_result",
          "data": {
            "text/latex": "$\\displaystyle \\left(2 x + 1\\right) \\left(x^{3} + x^{2} + x\\right) + \\left(x^{2} + x\\right) \\left(3 x^{2} + 2 x + 1\\right)$",
            "text/plain": [
              "(2*x + 1)*(x**3 + x**2 + x) + (x**2 + x)*(3*x**2 + 2*x + 1)"
            ]
          },
          "metadata": {},
          "execution_count": 32
        }
      ]
    },
    {
      "cell_type": "markdown",
      "source": [
        "#Thực hành 10"
      ],
      "metadata": {
        "id": "wqn87QWJSCPC"
      }
    },
    {
      "cell_type": "code",
      "source": [
        "from sympy import Symbol,Derivative\n",
        "f=sympy.sin(2*x)\n",
        "\n",
        "\n"
      ],
      "metadata": {
        "id": "GKn7hzCWSEnW"
      },
      "execution_count": null,
      "outputs": []
    },
    {
      "cell_type": "code",
      "source": [
        "Derivative(f,x).doit()"
      ],
      "metadata": {
        "colab": {
          "base_uri": "https://localhost:8080/",
          "height": 38
        },
        "id": "g6DYSaOnShSL",
        "outputId": "8585615e-e82d-4569-c35e-63f9dd67e1a2"
      },
      "execution_count": 33,
      "outputs": [
        {
          "output_type": "execute_result",
          "data": {
            "text/latex": "$\\displaystyle \\left(2 x + 1\\right) \\left(x^{3} + x^{2} + x\\right) + \\left(x^{2} + x\\right) \\left(3 x^{2} + 2 x + 1\\right)$",
            "text/plain": [
              "(2*x + 1)*(x**3 + x**2 + x) + (x**2 + x)*(3*x**2 + 2*x + 1)"
            ]
          },
          "metadata": {},
          "execution_count": 33
        }
      ]
    },
    {
      "cell_type": "code",
      "source": [
        "f=sympy.sin(x)*sympy.cos(x)\n",
        "Derivative(f,x).doit()"
      ],
      "metadata": {
        "colab": {
          "base_uri": "https://localhost:8080/",
          "height": 38
        },
        "id": "MuRDjlYySmaZ",
        "outputId": "de46ca5a-be36-432a-9200-f881edec4bef"
      },
      "execution_count": 34,
      "outputs": [
        {
          "output_type": "execute_result",
          "data": {
            "text/latex": "$\\displaystyle - \\sin^{2}{\\left(x \\right)} + \\cos^{2}{\\left(x \\right)}$",
            "text/plain": [
              "-sin(x)**2 + cos(x)**2"
            ]
          },
          "metadata": {},
          "execution_count": 34
        }
      ]
    },
    {
      "cell_type": "markdown",
      "source": [
        "#Thực hành 11"
      ],
      "metadata": {
        "id": "TFusDZKiS06p"
      }
    },
    {
      "cell_type": "code",
      "source": [
        "from sympy import Symbol,solve,Derivative\n",
        "x=Symbol('x')\n",
        "f=8*x**5+6*x**3+55*x"
      ],
      "metadata": {
        "id": "yAbxrjgLS3Kn"
      },
      "execution_count": 35,
      "outputs": []
    },
    {
      "cell_type": "code",
      "source": [
        "Derivative(f,x).doit()"
      ],
      "metadata": {
        "colab": {
          "base_uri": "https://localhost:8080/",
          "height": 38
        },
        "id": "3sDgW_IHTQ_i",
        "outputId": "e6e86d94-0780-4779-f621-2612f07705bc"
      },
      "execution_count": 36,
      "outputs": [
        {
          "output_type": "execute_result",
          "data": {
            "text/latex": "$\\displaystyle 40 x^{4} + 18 x^{2} + 55$",
            "text/plain": [
              "40*x**4 + 18*x**2 + 55"
            ]
          },
          "metadata": {},
          "execution_count": 36
        }
      ]
    },
    {
      "cell_type": "code",
      "source": [
        "d1=Derivative(f,x).doit()\n",
        "cuctri=solve(d1)\n"
      ],
      "metadata": {
        "id": "ocKHOV3LTXFu"
      },
      "execution_count": 39,
      "outputs": []
    },
    {
      "cell_type": "code",
      "source": [
        "A=cuctri[0]\n",
        "B=cuctri[1]\n",
        "C=cuctri[2]\n",
        "D=cuctri[3]\n"
      ],
      "metadata": {
        "id": "ieDldxOcTqWB"
      },
      "execution_count": 40,
      "outputs": []
    },
    {
      "cell_type": "code",
      "source": [
        "d2=Derivative(d1,x,2).doit()"
      ],
      "metadata": {
        "id": "EBWnt8JvUpTS"
      },
      "execution_count": 41,
      "outputs": []
    },
    {
      "cell_type": "code",
      "source": [
        "d2.subs({x:B}).evalf()"
      ],
      "metadata": {
        "colab": {
          "base_uri": "https://localhost:8080/",
          "height": 38
        },
        "id": "KShA84pcUyz5",
        "outputId": "6302bd57-10b3-4bb0-bdca-6badcee8c73f"
      },
      "execution_count": 42,
      "outputs": [
        {
          "output_type": "execute_result",
          "data": {
            "text/latex": "$\\displaystyle -72.0 - 552.391165751227 i$",
            "text/plain": [
              "-72.0 - 552.391165751227*I"
            ]
          },
          "metadata": {},
          "execution_count": 42
        }
      ]
    },
    {
      "cell_type": "code",
      "source": [
        "d2.subs({x:A}).evalf()"
      ],
      "metadata": {
        "colab": {
          "base_uri": "https://localhost:8080/",
          "height": 38
        },
        "id": "vzetlJcAU_Va",
        "outputId": "653281b0-19c9-42aa-c4bf-9193850b1a8a"
      },
      "execution_count": 43,
      "outputs": [
        {
          "output_type": "execute_result",
          "data": {
            "text/latex": "$\\displaystyle -72.0 + 552.391165751227 i$",
            "text/plain": [
              "-72.0 + 552.391165751227*I"
            ]
          },
          "metadata": {},
          "execution_count": 43
        }
      ]
    },
    {
      "cell_type": "code",
      "source": [
        "d2.subs({x:C}).evalf()"
      ],
      "metadata": {
        "colab": {
          "base_uri": "https://localhost:8080/",
          "height": 38
        },
        "id": "O3n0lK7NVBfH",
        "outputId": "68fb0455-74f9-4860-d0d7-4d434cd1e878"
      },
      "execution_count": 44,
      "outputs": [
        {
          "output_type": "execute_result",
          "data": {
            "text/latex": "$\\displaystyle -72.0 - 552.391165751227 i$",
            "text/plain": [
              "-72.0 - 552.391165751227*I"
            ]
          },
          "metadata": {},
          "execution_count": 44
        }
      ]
    },
    {
      "cell_type": "code",
      "source": [
        "d2.subs({x:D}).evalf()"
      ],
      "metadata": {
        "colab": {
          "base_uri": "https://localhost:8080/",
          "height": 38
        },
        "id": "nR0hrqFvVGHZ",
        "outputId": "3aba353b-7bfd-4800-d014-27c64fe23650"
      },
      "execution_count": 45,
      "outputs": [
        {
          "output_type": "execute_result",
          "data": {
            "text/latex": "$\\displaystyle -72.0 + 552.391165751227 i$",
            "text/plain": [
              "-72.0 + 552.391165751227*I"
            ]
          },
          "metadata": {},
          "execution_count": 45
        }
      ]
    },
    {
      "cell_type": "code",
      "source": [
        "x_min=-5\n",
        "x_max=5"
      ],
      "metadata": {
        "id": "_KSWC-wJVOmo"
      },
      "execution_count": 47,
      "outputs": []
    },
    {
      "cell_type": "code",
      "source": [
        "f.subs({x:A}).evalf()"
      ],
      "metadata": {
        "colab": {
          "base_uri": "https://localhost:8080/",
          "height": 38
        },
        "id": "s_vxSQEqVgdP",
        "outputId": "84a43d6a-b081-4061-91e1-fd1c855c7de5"
      },
      "execution_count": 48,
      "outputs": [
        {
          "output_type": "execute_result",
          "data": {
            "text/latex": "$\\displaystyle -27.6061014246152 - 38.2312604535365 i$",
            "text/plain": [
              "-27.6061014246152 - 38.2312604535365*I"
            ]
          },
          "metadata": {},
          "execution_count": 48
        }
      ]
    },
    {
      "cell_type": "code",
      "source": [
        "f.subs({x:B}).evalf()"
      ],
      "metadata": {
        "colab": {
          "base_uri": "https://localhost:8080/",
          "height": 38
        },
        "id": "-ehMrW4qVuJ8",
        "outputId": "04c5866b-7105-4b73-a00c-26a2b2023870"
      },
      "execution_count": 49,
      "outputs": [
        {
          "output_type": "execute_result",
          "data": {
            "text/latex": "$\\displaystyle -27.6061014246152 + 38.2312604535365 i$",
            "text/plain": [
              "-27.6061014246152 + 38.2312604535365*I"
            ]
          },
          "metadata": {},
          "execution_count": 49
        }
      ]
    },
    {
      "cell_type": "code",
      "source": [
        "f.subs({x:C}).evalf()"
      ],
      "metadata": {
        "colab": {
          "base_uri": "https://localhost:8080/",
          "height": 38
        },
        "id": "eXtmQQdaVwXm",
        "outputId": "dc57ff62-1ffd-4259-d534-6d78ba80bdc4"
      },
      "execution_count": 50,
      "outputs": [
        {
          "output_type": "execute_result",
          "data": {
            "text/latex": "$\\displaystyle 27.6061014246152 - 38.2312604535365 i$",
            "text/plain": [
              "27.6061014246152 - 38.2312604535365*I"
            ]
          },
          "metadata": {},
          "execution_count": 50
        }
      ]
    },
    {
      "cell_type": "code",
      "source": [
        "f.subs({x:x_min}).evalf()"
      ],
      "metadata": {
        "colab": {
          "base_uri": "https://localhost:8080/",
          "height": 37
        },
        "id": "_XUir2u8V2Dm",
        "outputId": "ed01c42b-9ed9-40a0-af69-25615790bc53"
      },
      "execution_count": 51,
      "outputs": [
        {
          "output_type": "execute_result",
          "data": {
            "text/latex": "$\\displaystyle -26025.0$",
            "text/plain": [
              "-26025.0000000000"
            ]
          },
          "metadata": {},
          "execution_count": 51
        }
      ]
    },
    {
      "cell_type": "code",
      "source": [
        "f.subs({x:x_max}).evalf()"
      ],
      "metadata": {
        "colab": {
          "base_uri": "https://localhost:8080/",
          "height": 37
        },
        "id": "Tu1G3ghRV5Dd",
        "outputId": "74a78dff-f3ae-4a0e-d4fa-4200a7082041"
      },
      "execution_count": 52,
      "outputs": [
        {
          "output_type": "execute_result",
          "data": {
            "text/latex": "$\\displaystyle 26025.0$",
            "text/plain": [
              "26025.0000000000"
            ]
          },
          "metadata": {},
          "execution_count": 52
        }
      ]
    },
    {
      "cell_type": "code",
      "source": [
        "g=sympy.E**x\n",
        "g1=Derivative(g,x)\n",
        "g1"
      ],
      "metadata": {
        "colab": {
          "base_uri": "https://localhost:8080/",
          "height": 52
        },
        "id": "k0ZAPLsWWArl",
        "outputId": "eaf16a57-6acd-42c4-da27-6ad8de7a8de1"
      },
      "execution_count": 54,
      "outputs": [
        {
          "output_type": "execute_result",
          "data": {
            "text/latex": "$\\displaystyle \\frac{d}{d x} e^{x}$",
            "text/plain": [
              "Derivative(exp(x), x)"
            ]
          },
          "metadata": {},
          "execution_count": 54
        }
      ]
    },
    {
      "cell_type": "code",
      "source": [
        ""
      ],
      "metadata": {
        "id": "WClNJwOOWxU0"
      },
      "execution_count": null,
      "outputs": []
    },
    {
      "cell_type": "markdown",
      "source": [
        "#lưu ý"
      ],
      "metadata": {
        "id": "b_kv0JMTXgvJ"
      }
    },
    {
      "cell_type": "code",
      "source": [
        "import sympy\n",
        "sympy.plot(f,(x,-10,8))"
      ],
      "metadata": {
        "id": "Rs1mV48xXjLO",
        "outputId": "eacf03c6-affa-41a2-a779-2b402b8b7247",
        "colab": {
          "base_uri": "https://localhost:8080/",
          "height": 314
        }
      },
      "execution_count": 59,
      "outputs": [
        {
          "output_type": "display_data",
          "data": {
            "image/png": "[encoded data removed]",
            "text/plain": [
              "<Figure size 432x288 with 1 Axes>"
            ]
          },
          "metadata": {
            "needs_background": "light"
          }
        },
        {
          "output_type": "execute_result",
          "data": {
            "text/plain": [
              "<sympy.plotting.plot.Plot at 0x7f1be4827b10>"
            ]
          },
          "metadata": {},
          "execution_count": 59
        }
      ]
    }
  ]
}