{
  "nbformat": 4,
  "nbformat_minor": 0,
  "metadata": {
    "colab": {
      "name": "Untitled0.ipynb",
      "provenance": [],
      "authorship_tag": "ABX9TyMXo1+kVR4aN91SKZG+soQM",
      "include_colab_link": true
    },
    "kernelspec": {
      "name": "python3",
      "display_name": "Python 3"
    },
    "language_info": {
      "name": "python"
    }
  },
  "cells": [
    {
      "cell_type": "markdown",
      "metadata": {
        "id": "view-in-github",
        "colab_type": "text"
      },
      "source": [
        "<a href=\"https://colab.research.google.com/github/QuocCuong2709/Thuc-hanh-toan-CC/blob/main/Ch%C6%B0%C6%A1ng_2.ipynb\" target=\"_parent\"><img src=\"https://colab.research.google.com/assets/colab-badge.svg\" alt=\"Open In Colab\"/></a>"
      ]
    },
    {
      "cell_type": "markdown",
      "source": [
        "#CHƯƠNG II"
      ],
      "metadata": {
        "id": "XrVed9-KFau1"
      }
    },
    {
      "cell_type": "markdown",
      "source": [
        "#Thực hàng 1\n"
      ],
      "metadata": {
        "id": "J21KXEdYGrb_"
      }
    },
    {
      "cell_type": "code",
      "source": [
        "f=\"a*b+c\"\n",
        "a=10\n",
        "b=6\n",
        "c=5\n",
        "eval(f)\n"
      ],
      "metadata": {
        "id": "2FLgPPQNFeqV",
        "outputId": "a2fd19ac-f94f-4eca-b3c4-c146cd889dec",
        "colab": {
          "base_uri": "https://localhost:8080/"
        }
      },
      "execution_count": null,
      "outputs": [
        {
          "output_type": "execute_result",
          "data": {
            "text/plain": [
              "65"
            ]
          },
          "metadata": {},
          "execution_count": 1
        }
      ]
    },
    {
      "cell_type": "markdown",
      "source": [
        "# Thực hành 2"
      ],
      "metadata": {
        "id": "3FxdOAaTHMSU"
      }
    },
    {
      "cell_type": "code",
      "source": [
        "from sympy import Symbol\n",
        "x = Symbol('x')\n",
        "y = Symbol('y')\n",
        "bt=x+y\n",
        "Thaytheso=bt.subs({x:7,y:8})\n",
        "Thaytheso"
      ],
      "metadata": {
        "id": "1SPb9FdbHQU1",
        "outputId": "f5f800f3-e78e-464a-99c7-b5aac89e691e",
        "colab": {
          "base_uri": "https://localhost:8080/",
          "height": 37
        }
      },
      "execution_count": null,
      "outputs": [
        {
          "output_type": "execute_result",
          "data": {
            "text/latex": "$\\displaystyle 15$",
            "text/plain": [
              "15"
            ]
          },
          "metadata": {},
          "execution_count": 6
        }
      ]
    },
    {
      "cell_type": "markdown",
      "source": [
        "#Thực hành 3"
      ],
      "metadata": {
        "id": "n1JemDCZKD_f"
      }
    },
    {
      "cell_type": "code",
      "source": [
        "ds_so=[5,6,9]\n",
        "ds_so[0]"
      ],
      "metadata": {
        "id": "blz_KijdKHbG",
        "outputId": "e0e0ec66-b07c-45c1-bcd7-d0c03c485084",
        "colab": {
          "base_uri": "https://localhost:8080/"
        }
      },
      "execution_count": null,
      "outputs": [
        {
          "output_type": "execute_result",
          "data": {
            "text/plain": [
              "5"
            ]
          },
          "metadata": {},
          "execution_count": 7
        }
      ]
    },
    {
      "cell_type": "code",
      "source": [
        "ds_so[1]"
      ],
      "metadata": {
        "id": "o-y4FjbgKZv_",
        "outputId": "56470c96-7b45-46bf-870f-6d182371c491",
        "colab": {
          "base_uri": "https://localhost:8080/"
        }
      },
      "execution_count": null,
      "outputs": [
        {
          "output_type": "execute_result",
          "data": {
            "text/plain": [
              "6"
            ]
          },
          "metadata": {},
          "execution_count": 8
        }
      ]
    },
    {
      "cell_type": "code",
      "source": [
        "ds_so[2]"
      ],
      "metadata": {
        "id": "RmyQNBKxKbrg",
        "outputId": "f524fb9c-ef5a-4ce6-f832-2692ac2184e4",
        "colab": {
          "base_uri": "https://localhost:8080/"
        }
      },
      "execution_count": null,
      "outputs": [
        {
          "output_type": "execute_result",
          "data": {
            "text/plain": [
              "9"
            ]
          },
          "metadata": {},
          "execution_count": 9
        }
      ]
    },
    {
      "cell_type": "markdown",
      "source": [
        "#Thực hành 4"
      ],
      "metadata": {
        "id": "BOoICIXhKyS-"
      }
    },
    {
      "cell_type": "code",
      "source": [
        "ds=[7,3,9]\n",
        "for so in ds:\n",
        "  print(so)\n"
      ],
      "metadata": {
        "id": "90O8-1VgK2S9",
        "outputId": "9ebaeb14-96fe-4ee7-91ea-309922f1f29a",
        "colab": {
          "base_uri": "https://localhost:8080/"
        }
      },
      "execution_count": null,
      "outputs": [
        {
          "output_type": "stream",
          "name": "stdout",
          "text": [
            "7\n",
            "3\n",
            "9\n"
          ]
        }
      ]
    },
    {
      "cell_type": "code",
      "source": [
        "ds=[7,11,14]\n",
        "for chiso,giatri in enumerate(ds):\n",
        "  print(chiso,giatri)"
      ],
      "metadata": {
        "id": "X49ntot4LL3f",
        "outputId": "3d478d92-928c-4bd6-bc49-bb0f751f7fcf",
        "colab": {
          "base_uri": "https://localhost:8080/"
        }
      },
      "execution_count": null,
      "outputs": [
        {
          "output_type": "stream",
          "name": "stdout",
          "text": [
            "0 7\n",
            "1 11\n",
            "2 14\n"
          ]
        }
      ]
    },
    {
      "cell_type": "markdown",
      "source": [
        "#Thực hành 5"
      ],
      "metadata": {
        "id": "Ku0I_--tLg-v"
      }
    },
    {
      "cell_type": "code",
      "source": [
        "x=[5,8,9]\n",
        "y=[4,5,6]\n",
        "from pylab import plot,show\n",
        "plot(x,y)\n",
        "show()"
      ],
      "metadata": {
        "id": "OyuxTUWcLjvu",
        "outputId": "41d7b369-7001-4190-d90b-90bc95f79285",
        "colab": {
          "base_uri": "https://localhost:8080/",
          "height": 265
        }
      },
      "execution_count": null,
      "outputs": [
        {
          "output_type": "display_data",
          "data": {
            "image/png": "[encoded data removed]",
            "text/plain": [
              "<Figure size 432x288 with 1 Axes>"
            ]
          },
          "metadata": {
            "needs_background": "light"
          }
        }
      ]
    },
    {
      "cell_type": "markdown",
      "source": [
        "#Thực hành 6"
      ],
      "metadata": {
        "id": "jecD7SC8MDKd"
      }
    },
    {
      "cell_type": "code",
      "source": [
        "x=[5,8,9]\n",
        "y=[4,5,6]\n",
        "from pylab import plot,show\n",
        "plot(x,y,marker='o')\n",
        "show"
      ],
      "metadata": {
        "id": "H8rSu1LoMF2k",
        "outputId": "0a85c6ce-9209-4635-da1c-19653dc3de49",
        "colab": {
          "base_uri": "https://localhost:8080/",
          "height": 282
        }
      },
      "execution_count": null,
      "outputs": [
        {
          "output_type": "execute_result",
          "data": {
            "text/plain": [
              "<function matplotlib.pyplot.show>"
            ]
          },
          "metadata": {},
          "execution_count": 17
        },
        {
          "output_type": "display_data",
          "data": {
            "image/png": "[encoded data removed]",
            "text/plain": [
              "<Figure size 432x288 with 1 Axes>"
            ]
          },
          "metadata": {
            "needs_background": "light"
          }
        }
      ]
    },
    {
      "cell_type": "markdown",
      "source": [
        "#thực hành 7"
      ],
      "metadata": {
        "id": "7aXjjXHVMruB"
      }
    },
    {
      "cell_type": "code",
      "source": [
        "HCM_rain =[12.4,3.2,7.4,5.4,14.2,45.6,48.4,34.3,12.6,25.4,22,9.3]\n",
        "thang =range(1,13)\n",
        "from pylab import plot,show\n",
        "plot (thang,HCM_rain,marker='o')\n",
        "show()\n"
      ],
      "metadata": {
        "id": "oAHy4t3xMuyK",
        "outputId": "0bcf84e6-64b2-4ac2-dcde-a22d218c58b4",
        "colab": {
          "base_uri": "https://localhost:8080/",
          "height": 266
        }
      },
      "execution_count": 55,
      "outputs": [
        {
          "output_type": "display_data",
          "data": {
            "image/png": "[encoded data removed]",
            "text/plain": [
              "<Figure size 432x288 with 1 Axes>"
            ]
          },
          "metadata": {
            "needs_background": "light"
          }
        }
      ]
    },
    {
      "cell_type": "markdown",
      "source": [
        "#Thực hành 8"
      ],
      "metadata": {
        "id": "ykbNbWd-O6t3"
      }
    },
    {
      "cell_type": "code",
      "source": [
        "from sympy import Symbol,Derivative\n",
        "t= Symbol('t')\n",
        "st=8*t**2+7*t+5"
      ],
      "metadata": {
        "id": "Ss9cyZp7O-6w"
      },
      "execution_count": 56,
      "outputs": []
    },
    {
      "cell_type": "code",
      "source": [
        "Derivative(st,t)"
      ],
      "metadata": {
        "colab": {
          "base_uri": "https://localhost:8080/",
          "height": 52
        },
        "id": "ruWDKEshPm_S",
        "outputId": "c35d16a7-cd13-48b9-de10-c6ef251c31d9"
      },
      "execution_count": 49,
      "outputs": [
        {
          "output_type": "execute_result",
          "data": {
            "text/latex": "$\\displaystyle \\frac{d}{d t} \\left(8 t^{2} + 7 t + 5\\right)$",
            "text/plain": [
              "Derivative(8*t**2 + 7*t + 5, t)"
            ]
          },
          "metadata": {},
          "execution_count": 49
        }
      ]
    },
    {
      "cell_type": "code",
      "source": [
        "d=Derivative(st,t)\n",
        "d.doit()"
      ],
      "metadata": {
        "colab": {
          "base_uri": "https://localhost:8080/",
          "height": 39
        },
        "id": "_ChXAhaMQMpm",
        "outputId": "b1c9eca5-1235-485b-d200-085403d10c99"
      },
      "execution_count": 50,
      "outputs": [
        {
          "output_type": "execute_result",
          "data": {
            "text/latex": "$\\displaystyle 16 t + 7$",
            "text/plain": [
              "16*t + 7"
            ]
          },
          "metadata": {},
          "execution_count": 50
        }
      ]
    },
    {
      "cell_type": "code",
      "source": [
        "d.doit().subs({t:1})"
      ],
      "metadata": {
        "colab": {
          "base_uri": "https://localhost:8080/",
          "height": 38
        },
        "id": "PUltHrVDQirJ",
        "outputId": "e39dff33-d892-4a9b-b6ed-0dd766f717b3"
      },
      "execution_count": 51,
      "outputs": [
        {
          "output_type": "execute_result",
          "data": {
            "text/latex": "$\\displaystyle 23$",
            "text/plain": [
              "23"
            ]
          },
          "metadata": {},
          "execution_count": 51
        }
      ]
    },
    {
      "cell_type": "code",
      "source": [
        "t1=Symbol('t1')\n",
        "d.doit().subs({t:t1})"
      ],
      "metadata": {
        "colab": {
          "base_uri": "https://localhost:8080/",
          "height": 39
        },
        "id": "UBzdSiFXQu-S",
        "outputId": "e82f7644-311a-4315-8a8a-6fcb44bea4d9"
      },
      "execution_count": 52,
      "outputs": [
        {
          "output_type": "execute_result",
          "data": {
            "text/latex": "$\\displaystyle 16 t_{1} + 7$",
            "text/plain": [
              "16*t1 + 7"
            ]
          },
          "metadata": {},
          "execution_count": 52
        }
      ]
    },
    {
      "cell_type": "code",
      "source": [
        "t2=22\n",
        "d.doit().subs({t:t2})"
      ],
      "metadata": {
        "colab": {
          "base_uri": "https://localhost:8080/",
          "height": 38
        },
        "id": "f6D6W6KaQ8Nk",
        "outputId": "c1d10b7c-09ae-494c-aa55-2fe3e6a16b1c"
      },
      "execution_count": 53,
      "outputs": [
        {
          "output_type": "execute_result",
          "data": {
            "text/latex": "$\\displaystyle 359$",
            "text/plain": [
              "359"
            ]
          },
          "metadata": {},
          "execution_count": 53
        }
      ]
    },
    {
      "cell_type": "markdown",
      "source": [
        "#Thực hành 9"
      ],
      "metadata": {
        "id": "Cxkg0gfcRFTd"
      }
    },
    {
      "cell_type": "code",
      "source": [
        "from sympy import Symbol,Derivative\n",
        "x= Symbol('x')\n",
        "f=(x**3+x**2+x)*(x**2+x)"
      ],
      "metadata": {
        "id": "S1dfg5h7RI8p"
      },
      "execution_count": 57,
      "outputs": []
    },
    {
      "cell_type": "code",
      "source": [
        "Derivative(f,x).doit()"
      ],
      "metadata": {
        "colab": {
          "base_uri": "https://localhost:8080/",
          "height": 39
        },
        "id": "DhReeE0SRxUA",
        "outputId": "dacaac9a-9271-4ec1-c43a-0ad3080ebaff"
      },
      "execution_count": 11,
      "outputs": [
        {
          "output_type": "execute_result",
          "data": {
            "text/latex": "$\\displaystyle \\left(2 x + 1\\right) \\left(x^{3} + x^{2} + x\\right) + \\left(x^{2} + x\\right) \\left(3 x^{2} + 2 x + 1\\right)$",
            "text/plain": [
              "(2*x + 1)*(x**3 + x**2 + x) + (x**2 + x)*(3*x**2 + 2*x + 1)"
            ]
          },
          "metadata": {},
          "execution_count": 11
        }
      ]
    },
    {
      "cell_type": "markdown",
      "source": [
        "#Thực hành 10"
      ],
      "metadata": {
        "id": "wqn87QWJSCPC"
      }
    },
    {
      "cell_type": "code",
      "source": [
        "from sympy import Symbol,Derivative\n",
        "x=Symbol('x')\n",
        "f=sympy.sin(2*x)\n",
        "\n",
        "\n"
      ],
      "metadata": {
        "id": "GKn7hzCWSEnW",
        "outputId": "88843415-7540-4202-c43d-6975404b60a5",
        "colab": {
          "base_uri": "https://localhost:8080/",
          "height": 234
        }
      },
      "execution_count": 63,
      "outputs": [
        {
          "output_type": "error",
          "ename": "NameError",
          "evalue": "ignored",
          "traceback": [
            "\u001b[0;31m---------------------------------------------------------------------------\u001b[0m",
            "\u001b[0;31mNameError\u001b[0m                                 Traceback (most recent call last)",
            "\u001b[0;32m<ipython-input-63-7c0ece731efd>\u001b[0m in \u001b[0;36m<module>\u001b[0;34m()\u001b[0m\n\u001b[1;32m      1\u001b[0m \u001b[0;32mfrom\u001b[0m \u001b[0msympy\u001b[0m \u001b[0;32mimport\u001b[0m \u001b[0mSymbol\u001b[0m\u001b[0;34m,\u001b[0m\u001b[0mDerivative\u001b[0m\u001b[0;34m\u001b[0m\u001b[0;34m\u001b[0m\u001b[0m\n\u001b[1;32m      2\u001b[0m \u001b[0mx\u001b[0m\u001b[0;34m=\u001b[0m\u001b[0mSymbol\u001b[0m\u001b[0;34m(\u001b[0m\u001b[0;34m'x'\u001b[0m\u001b[0;34m)\u001b[0m\u001b[0;34m\u001b[0m\u001b[0;34m\u001b[0m\u001b[0m\n\u001b[0;32m----> 3\u001b[0;31m \u001b[0mf\u001b[0m\u001b[0;34m=\u001b[0m\u001b[0msympy\u001b[0m\u001b[0;34m.\u001b[0m\u001b[0msin\u001b[0m\u001b[0;34m(\u001b[0m\u001b[0;36m2\u001b[0m\u001b[0;34m*\u001b[0m\u001b[0mx\u001b[0m\u001b[0;34m)\u001b[0m\u001b[0;34m\u001b[0m\u001b[0;34m\u001b[0m\u001b[0m\n\u001b[0m\u001b[1;32m      4\u001b[0m \u001b[0;34m\u001b[0m\u001b[0m\n\u001b[1;32m      5\u001b[0m \u001b[0;34m\u001b[0m\u001b[0m\n",
            "\u001b[0;31mNameError\u001b[0m: name 'sympy' is not defined"
          ]
        }
      ]
    },
    {
      "cell_type": "code",
      "source": [
        "Derivative(f,x).doit()"
      ],
      "metadata": {
        "colab": {
          "base_uri": "https://localhost:8080/",
          "height": 39
        },
        "id": "g6DYSaOnShSL",
        "outputId": "c5b1b5ec-d9bb-4c0d-850c-6b035baaed59"
      },
      "execution_count": 13,
      "outputs": [
        {
          "output_type": "execute_result",
          "data": {
            "text/latex": "$\\displaystyle \\left(2 x + 1\\right) \\left(x^{3} + x^{2} + x\\right) + \\left(x^{2} + x\\right) \\left(3 x^{2} + 2 x + 1\\right)$",
            "text/plain": [
              "(2*x + 1)*(x**3 + x**2 + x) + (x**2 + x)*(3*x**2 + 2*x + 1)"
            ]
          },
          "metadata": {},
          "execution_count": 13
        }
      ]
    },
    {
      "cell_type": "code",
      "source": [
        "f=sympy.sin(x)*sympy.cos(x)\n",
        "Derivative(f,x).doit()"
      ],
      "metadata": {
        "colab": {
          "base_uri": "https://localhost:8080/",
          "height": 182
        },
        "id": "MuRDjlYySmaZ",
        "outputId": "8cc11592-895a-42cb-98dc-031a9f7e576f"
      },
      "execution_count": 64,
      "outputs": [
        {
          "output_type": "error",
          "ename": "NameError",
          "evalue": "ignored",
          "traceback": [
            "\u001b[0;31m---------------------------------------------------------------------------\u001b[0m",
            "\u001b[0;31mNameError\u001b[0m                                 Traceback (most recent call last)",
            "\u001b[0;32m<ipython-input-64-a7a281846799>\u001b[0m in \u001b[0;36m<module>\u001b[0;34m()\u001b[0m\n\u001b[0;32m----> 1\u001b[0;31m \u001b[0mf\u001b[0m\u001b[0;34m=\u001b[0m\u001b[0msympy\u001b[0m\u001b[0;34m.\u001b[0m\u001b[0msin\u001b[0m\u001b[0;34m(\u001b[0m\u001b[0mx\u001b[0m\u001b[0;34m)\u001b[0m\u001b[0;34m*\u001b[0m\u001b[0msympy\u001b[0m\u001b[0;34m.\u001b[0m\u001b[0mcos\u001b[0m\u001b[0;34m(\u001b[0m\u001b[0mx\u001b[0m\u001b[0;34m)\u001b[0m\u001b[0;34m\u001b[0m\u001b[0;34m\u001b[0m\u001b[0m\n\u001b[0m\u001b[1;32m      2\u001b[0m \u001b[0mDerivative\u001b[0m\u001b[0;34m(\u001b[0m\u001b[0mf\u001b[0m\u001b[0;34m,\u001b[0m\u001b[0mx\u001b[0m\u001b[0;34m)\u001b[0m\u001b[0;34m.\u001b[0m\u001b[0mdoit\u001b[0m\u001b[0;34m(\u001b[0m\u001b[0;34m)\u001b[0m\u001b[0;34m\u001b[0m\u001b[0;34m\u001b[0m\u001b[0m\n",
            "\u001b[0;31mNameError\u001b[0m: name 'sympy' is not defined"
          ]
        }
      ]
    },
    {
      "cell_type": "markdown",
      "source": [
        "#Thực hành 11"
      ],
      "metadata": {
        "id": "TFusDZKiS06p"
      }
    },
    {
      "cell_type": "code",
      "source": [
        "from sympy import Symbol,solve,Derivative\n",
        "x=Symbol('x')\n",
        "f=8*x**5+6*x**3+55*x"
      ],
      "metadata": {
        "id": "yAbxrjgLS3Kn"
      },
      "execution_count": 15,
      "outputs": []
    },
    {
      "cell_type": "code",
      "source": [
        "Derivative(f,x).doit()"
      ],
      "metadata": {
        "colab": {
          "base_uri": "https://localhost:8080/",
          "height": 39
        },
        "id": "3sDgW_IHTQ_i",
        "outputId": "d6ab3ca3-9ec5-443e-f453-1e481b2761e2"
      },
      "execution_count": 16,
      "outputs": [
        {
          "output_type": "execute_result",
          "data": {
            "text/latex": "$\\displaystyle 40 x^{4} + 18 x^{2} + 55$",
            "text/plain": [
              "40*x**4 + 18*x**2 + 55"
            ]
          },
          "metadata": {},
          "execution_count": 16
        }
      ]
    },
    {
      "cell_type": "code",
      "source": [
        "d1=Derivative(f,x).doit()\n",
        "cuctri=solve(d1)\n"
      ],
      "metadata": {
        "id": "ocKHOV3LTXFu"
      },
      "execution_count": 17,
      "outputs": []
    },
    {
      "cell_type": "code",
      "source": [
        "A=cuctri[0]\n",
        "B=cuctri[1]\n",
        "C=cuctri[2]\n",
        "D=cuctri[3]\n"
      ],
      "metadata": {
        "id": "ieDldxOcTqWB"
      },
      "execution_count": 18,
      "outputs": []
    },
    {
      "cell_type": "code",
      "source": [
        "d2=Derivative(d1,x,2).doit()"
      ],
      "metadata": {
        "id": "EBWnt8JvUpTS"
      },
      "execution_count": null,
      "outputs": []
    },
    {
      "cell_type": "code",
      "source": [
        "d2.subs({x:B}).evalf()"
      ],
      "metadata": {
        "id": "KShA84pcUyz5"
      },
      "execution_count": null,
      "outputs": []
    },
    {
      "cell_type": "code",
      "source": [
        "d2.subs({x:A}).evalf()"
      ],
      "metadata": {
        "id": "vzetlJcAU_Va"
      },
      "execution_count": null,
      "outputs": []
    },
    {
      "cell_type": "code",
      "source": [
        "d2.subs({x:C}).evalf()"
      ],
      "metadata": {
        "id": "O3n0lK7NVBfH"
      },
      "execution_count": null,
      "outputs": []
    },
    {
      "cell_type": "code",
      "source": [
        "d2.subs({x:D}).evalf()"
      ],
      "metadata": {
        "id": "nR0hrqFvVGHZ"
      },
      "execution_count": null,
      "outputs": []
    },
    {
      "cell_type": "code",
      "source": [
        "x_min=-5\n",
        "x_max=5"
      ],
      "metadata": {
        "id": "_KSWC-wJVOmo"
      },
      "execution_count": null,
      "outputs": []
    },
    {
      "cell_type": "code",
      "source": [
        "f.subs({x:A}).evalf()"
      ],
      "metadata": {
        "id": "s_vxSQEqVgdP"
      },
      "execution_count": null,
      "outputs": []
    },
    {
      "cell_type": "code",
      "source": [
        "f.subs({x:B}).evalf()"
      ],
      "metadata": {
        "id": "-ehMrW4qVuJ8"
      },
      "execution_count": null,
      "outputs": []
    },
    {
      "cell_type": "code",
      "source": [
        "f.subs({x:C}).evalf()"
      ],
      "metadata": {
        "id": "eXtmQQdaVwXm"
      },
      "execution_count": null,
      "outputs": []
    },
    {
      "cell_type": "code",
      "source": [
        "f.subs({x:x_min}).evalf()"
      ],
      "metadata": {
        "id": "_XUir2u8V2Dm"
      },
      "execution_count": null,
      "outputs": []
    },
    {
      "cell_type": "code",
      "source": [
        "f.subs({x:x_max}).evalf()"
      ],
      "metadata": {
        "id": "Tu1G3ghRV5Dd"
      },
      "execution_count": null,
      "outputs": []
    },
    {
      "cell_type": "code",
      "source": [
        "g=sympy.E**x\n",
        "g1=Derivative(g,x)\n",
        "g1"
      ],
      "metadata": {
        "id": "k0ZAPLsWWArl"
      },
      "execution_count": null,
      "outputs": []
    },
    {
      "cell_type": "code",
      "source": [
        ""
      ],
      "metadata": {
        "id": "WClNJwOOWxU0"
      },
      "execution_count": null,
      "outputs": []
    },
    {
      "cell_type": "markdown",
      "source": [
        "#lưu ý"
      ],
      "metadata": {
        "id": "b_kv0JMTXgvJ"
      }
    },
    {
      "cell_type": "code",
      "source": [
        "import sympy\n",
        "sympy.plot(f,(x,-10,8))"
      ],
      "metadata": {
        "id": "Rs1mV48xXjLO"
      },
      "execution_count": null,
      "outputs": []
    },
    {
      "cell_type": "markdown",
      "source": [
        "#Bài tập 1: Vẽ biểu đồ số ngày mưa trung bình và số giờ nắng trung bình hằng tháng theo số liệu khí hậu của TP.HCM"
      ],
      "metadata": {
        "id": "A2RsnI_3-U_i"
      }
    },
    {
      "cell_type": "markdown",
      "source": [
        "Bài 1"
      ],
      "metadata": {
        "id": "QeCOtiC4-bTr"
      }
    },
    {
      "cell_type": "code",
      "source": [
        "from pylab import plot,show\n",
        "thang = range(1,13)\n",
        "so_ngay_mua_tb = [3,4,2,5,2,8,9,7,2,11,6,7]\n",
        "so_ngay_nang_tb = [12,15,16,18,10,14,11,10,9,13,17,12]\n",
        "plot(thang,so_ngay_mua_tb,so_ngay_nang_tb,marker = 'o')"
      ],
      "metadata": {
        "id": "OC3UrbN0-aex",
        "outputId": "51035086-c5c9-4ee1-c8a9-142315a03e79",
        "colab": {
          "base_uri": "https://localhost:8080/",
          "height": 300
        }
      },
      "execution_count": 21,
      "outputs": [
        {
          "output_type": "execute_result",
          "data": {
            "text/plain": [
              "[<matplotlib.lines.Line2D at 0x7f910cd4d350>,\n",
              " <matplotlib.lines.Line2D at 0x7f910cd4d190>]"
            ]
          },
          "metadata": {},
          "execution_count": 21
        },
        {
          "output_type": "display_data",
          "data": {
            "image/png": "[encoded data removed]",
            "text/plain": [
              "<Figure size 432x288 with 1 Axes>"
            ]
          },
          "metadata": {
            "needs_background": "light"
          }
        }
      ]
    },
    {
      "cell_type": "markdown",
      "source": [
        "#Bài tập 2: Chọn 10 hàm số trong sách/giáo trình Toán Cao cấp để thực hiện việc tính đạo hàm bằng Python."
      ],
      "metadata": {
        "id": "bT5pyIDA-nXK"
      }
    },
    {
      "cell_type": "markdown",
      "source": [
        "#bài 1\n"
      ],
      "metadata": {
        "id": "KP52iPaX-zM8"
      }
    },
    {
      "cell_type": "code",
      "source": [
        "from sympy import *\n",
        "x = Symbol('x')\n",
        "f = sin(x) - cos(x) + tan(x)\n",
        "f"
      ],
      "metadata": {
        "id": "wh2oAptC-7JJ",
        "outputId": "d627aa56-0bb7-4108-fcdf-996dbe0adc01",
        "colab": {
          "base_uri": "https://localhost:8080/",
          "height": 39
        }
      },
      "execution_count": 22,
      "outputs": [
        {
          "output_type": "execute_result",
          "data": {
            "text/latex": "$\\displaystyle \\sin{\\left(x \\right)} - \\cos{\\left(x \\right)} + \\tan{\\left(x \\right)}$",
            "text/plain": [
              "sin(x) - cos(x) + tan(x)"
            ]
          },
          "metadata": {},
          "execution_count": 22
        }
      ]
    },
    {
      "cell_type": "code",
      "source": [
        "d = Derivative(f,x).doit()\n",
        "d"
      ],
      "metadata": {
        "id": "9HofxLF9--i2",
        "outputId": "2f63221a-81c1-458d-bcbc-4d436def5491",
        "colab": {
          "base_uri": "https://localhost:8080/",
          "height": 39
        }
      },
      "execution_count": 23,
      "outputs": [
        {
          "output_type": "execute_result",
          "data": {
            "text/latex": "$\\displaystyle \\sin{\\left(x \\right)} + \\cos{\\left(x \\right)} + \\tan^{2}{\\left(x \\right)} + 1$",
            "text/plain": [
              "sin(x) + cos(x) + tan(x)**2 + 1"
            ]
          },
          "metadata": {},
          "execution_count": 23
        }
      ]
    },
    {
      "cell_type": "markdown",
      "source": [
        "#bài 2"
      ],
      "metadata": {
        "id": "wazC5oOg_Bdp"
      }
    },
    {
      "cell_type": "code",
      "source": [
        "f1 = (x**2 + x + 2)/(x-1)\n",
        "f1"
      ],
      "metadata": {
        "id": "STyFzQrf_CGm",
        "outputId": "d5238c9a-0606-4907-9413-d967defc9c98",
        "colab": {
          "base_uri": "https://localhost:8080/",
          "height": 55
        }
      },
      "execution_count": 24,
      "outputs": [
        {
          "output_type": "execute_result",
          "data": {
            "text/latex": "$\\displaystyle \\frac{x^{2} + x + 2}{x - 1}$",
            "text/plain": [
              "(x**2 + x + 2)/(x - 1)"
            ]
          },
          "metadata": {},
          "execution_count": 24
        }
      ]
    },
    {
      "cell_type": "code",
      "source": [
        "d1 = Derivative(f1,x).doit()\n",
        "d1"
      ],
      "metadata": {
        "id": "pGU9uc-Y_Hqa",
        "outputId": "559de87c-9cd1-458c-857c-445befcad006",
        "colab": {
          "base_uri": "https://localhost:8080/",
          "height": 61
        }
      },
      "execution_count": 25,
      "outputs": [
        {
          "output_type": "execute_result",
          "data": {
            "text/latex": "$\\displaystyle \\frac{2 x + 1}{x - 1} - \\frac{x^{2} + x + 2}{\\left(x - 1\\right)^{2}}$",
            "text/plain": [
              "(2*x + 1)/(x - 1) - (x**2 + x + 2)/(x - 1)**2"
            ]
          },
          "metadata": {},
          "execution_count": 25
        }
      ]
    },
    {
      "cell_type": "code",
      "source": [
        "d1.simplify()"
      ],
      "metadata": {
        "id": "tO8Knm-m_KU6",
        "outputId": "5b264298-00f0-495f-efe0-301ef91df1cf",
        "colab": {
          "base_uri": "https://localhost:8080/",
          "height": 55
        }
      },
      "execution_count": 26,
      "outputs": [
        {
          "output_type": "execute_result",
          "data": {
            "text/latex": "$\\displaystyle \\frac{x^{2} - 2 x - 3}{x^{2} - 2 x + 1}$",
            "text/plain": [
              "(x**2 - 2*x - 3)/(x**2 - 2*x + 1)"
            ]
          },
          "metadata": {},
          "execution_count": 26
        }
      ]
    },
    {
      "cell_type": "markdown",
      "source": [
        "#bài 3"
      ],
      "metadata": {
        "id": "5GzlH5OY_OUG"
      }
    },
    {
      "cell_type": "code",
      "source": [
        "f2 = 1/5*x**5 -2*sqrt(x) + 3/x\n",
        "f2"
      ],
      "metadata": {
        "id": "PJi_Yq9k_PBm",
        "outputId": "30e62b11-ede9-4d18-e519-9540295f5e37",
        "colab": {
          "base_uri": "https://localhost:8080/",
          "height": 51
        }
      },
      "execution_count": 27,
      "outputs": [
        {
          "output_type": "execute_result",
          "data": {
            "text/latex": "$\\displaystyle - 2 \\sqrt{x} + 0.2 x^{5} + \\frac{3}{x}$",
            "text/plain": [
              "-2*sqrt(x) + 0.2*x**5 + 3/x"
            ]
          },
          "metadata": {},
          "execution_count": 27
        }
      ]
    },
    {
      "cell_type": "code",
      "source": [
        "d2 = Derivative(f2,x).doit()\n",
        "d2"
      ],
      "metadata": {
        "id": "KZSIoJg5_WcV",
        "outputId": "6a32e6cb-da01-4371-c298-9aa509e4b24c",
        "colab": {
          "base_uri": "https://localhost:8080/",
          "height": 55
        }
      },
      "execution_count": 28,
      "outputs": [
        {
          "output_type": "execute_result",
          "data": {
            "text/latex": "$\\displaystyle 1.0 x^{4} - \\frac{3}{x^{2}} - \\frac{1}{\\sqrt{x}}$",
            "text/plain": [
              "1.0*x**4 - 3/x**2 - 1/sqrt(x)"
            ]
          },
          "metadata": {},
          "execution_count": 28
        }
      ]
    },
    {
      "cell_type": "markdown",
      "source": [
        "#bài 4"
      ],
      "metadata": {
        "id": "RZzyvr1f_Zwe"
      }
    },
    {
      "cell_type": "code",
      "source": [
        "f3 = sin(2*x)*cos(x)**4-cot(1/x**2)-sin(2*x)*sin(x)**4\n",
        "f3"
      ],
      "metadata": {
        "id": "FI5KPbDk_aOF",
        "outputId": "5f2f2954-c005-4189-f0ee-a3adc75b1f4a",
        "colab": {
          "base_uri": "https://localhost:8080/",
          "height": 58
        }
      },
      "execution_count": 29,
      "outputs": [
        {
          "output_type": "execute_result",
          "data": {
            "text/latex": "$\\displaystyle - \\sin^{4}{\\left(x \\right)} \\sin{\\left(2 x \\right)} + \\sin{\\left(2 x \\right)} \\cos^{4}{\\left(x \\right)} - \\cot{\\left(\\frac{1}{x^{2}} \\right)}$",
            "text/plain": [
              "-sin(x)**4*sin(2*x) + sin(2*x)*cos(x)**4 - cot(x**(-2))"
            ]
          },
          "metadata": {},
          "execution_count": 29
        }
      ]
    },
    {
      "cell_type": "code",
      "source": [
        "d3 = Derivative(f3,x).doit()\n",
        "d3"
      ],
      "metadata": {
        "id": "2eQcwhBN_eQU",
        "outputId": "d05c29cd-5bed-40bd-8e23-bb95c1f924e2",
        "colab": {
          "base_uri": "https://localhost:8080/",
          "height": 55
        }
      },
      "execution_count": 30,
      "outputs": [
        {
          "output_type": "execute_result",
          "data": {
            "text/latex": "$\\displaystyle - 2 \\sin^{4}{\\left(x \\right)} \\cos{\\left(2 x \\right)} - 4 \\sin^{3}{\\left(x \\right)} \\sin{\\left(2 x \\right)} \\cos{\\left(x \\right)} - 4 \\sin{\\left(x \\right)} \\sin{\\left(2 x \\right)} \\cos^{3}{\\left(x \\right)} + 2 \\cos^{4}{\\left(x \\right)} \\cos{\\left(2 x \\right)} + \\frac{2 \\left(- \\cot^{2}{\\left(\\frac{1}{x^{2}} \\right)} - 1\\right)}{x^{3}}$",
            "text/plain": [
              "-2*sin(x)**4*cos(2*x) - 4*sin(x)**3*sin(2*x)*cos(x) - 4*sin(x)*sin(2*x)*cos(x)**3 + 2*cos(x)**4*cos(2*x) + 2*(-cot(x**(-2))**2 - 1)/x**3"
            ]
          },
          "metadata": {},
          "execution_count": 30
        }
      ]
    },
    {
      "cell_type": "code",
      "source": [
        "d3.simplify()"
      ],
      "metadata": {
        "id": "SPQaparO_gne",
        "outputId": "1bcc6925-f351-4d4c-d27d-e5483d9c9bea",
        "colab": {
          "base_uri": "https://localhost:8080/",
          "height": 55
        }
      },
      "execution_count": 31,
      "outputs": [
        {
          "output_type": "execute_result",
          "data": {
            "text/latex": "$\\displaystyle 16 \\sin^{4}{\\left(x \\right)} - 16 \\sin^{2}{\\left(x \\right)} + 2 - \\frac{2 \\cot^{2}{\\left(\\frac{1}{x^{2}} \\right)}}{x^{3}} - \\frac{2}{x^{3}}$",
            "text/plain": [
              "16*sin(x)**4 - 16*sin(x)**2 + 2 - 2*cot(x**(-2))**2/x**3 - 2/x**3"
            ]
          },
          "metadata": {},
          "execution_count": 31
        }
      ]
    },
    {
      "cell_type": "markdown",
      "source": [
        "#bài 5"
      ],
      "metadata": {
        "id": "y92owmvT_jC2"
      }
    },
    {
      "cell_type": "code",
      "source": [
        "f4 = 5*x+3*x*(x+1)-5\n",
        "f4"
      ],
      "metadata": {
        "id": "qesEynTY_jg_",
        "outputId": "0211db5c-cdd1-42db-8171-f5b1dc7fdcb8",
        "colab": {
          "base_uri": "https://localhost:8080/",
          "height": 39
        }
      },
      "execution_count": 32,
      "outputs": [
        {
          "output_type": "execute_result",
          "data": {
            "text/latex": "$\\displaystyle 3 x \\left(x + 1\\right) + 5 x - 5$",
            "text/plain": [
              "3*x*(x + 1) + 5*x - 5"
            ]
          },
          "metadata": {},
          "execution_count": 32
        }
      ]
    },
    {
      "cell_type": "code",
      "source": [
        "d4 = Derivative(f4,x).doit()\n",
        "d4"
      ],
      "metadata": {
        "id": "pTK2Chnk_nMd",
        "outputId": "128ba543-f358-4df3-ff97-b8c362067272",
        "colab": {
          "base_uri": "https://localhost:8080/",
          "height": 39
        }
      },
      "execution_count": 33,
      "outputs": [
        {
          "output_type": "execute_result",
          "data": {
            "text/latex": "$\\displaystyle 6 x + 8$",
            "text/plain": [
              "6*x + 8"
            ]
          },
          "metadata": {},
          "execution_count": 33
        }
      ]
    },
    {
      "cell_type": "markdown",
      "source": [
        "#bài 6"
      ],
      "metadata": {
        "id": "LjBSTp2q_pqf"
      }
    },
    {
      "cell_type": "code",
      "source": [
        "f5 = (2*x-1)*sqrt(x**2+2)\n",
        "f5"
      ],
      "metadata": {
        "id": "KkEf2egu_qIN",
        "outputId": "cecba98a-726a-43c4-efad-2921370a5e9a",
        "colab": {
          "base_uri": "https://localhost:8080/",
          "height": 42
        }
      },
      "execution_count": 34,
      "outputs": [
        {
          "output_type": "execute_result",
          "data": {
            "text/latex": "$\\displaystyle \\left(2 x - 1\\right) \\sqrt{x^{2} + 2}$",
            "text/plain": [
              "(2*x - 1)*sqrt(x**2 + 2)"
            ]
          },
          "metadata": {},
          "execution_count": 34
        }
      ]
    },
    {
      "cell_type": "code",
      "source": [
        "d5 = Derivative(f5,x).doit()\n",
        "d5"
      ],
      "metadata": {
        "id": "XpwNwf5n_uLn",
        "outputId": "ae9e0c08-1a37-4a7e-ff4b-dc020b48fac0",
        "colab": {
          "base_uri": "https://localhost:8080/",
          "height": 57
        }
      },
      "execution_count": 35,
      "outputs": [
        {
          "output_type": "execute_result",
          "data": {
            "text/latex": "$\\displaystyle \\frac{x \\left(2 x - 1\\right)}{\\sqrt{x^{2} + 2}} + 2 \\sqrt{x^{2} + 2}$",
            "text/plain": [
              "x*(2*x - 1)/sqrt(x**2 + 2) + 2*sqrt(x**2 + 2)"
            ]
          },
          "metadata": {},
          "execution_count": 35
        }
      ]
    },
    {
      "cell_type": "code",
      "source": [
        "d5.simplify()"
      ],
      "metadata": {
        "id": "B_L2wrma_92-",
        "outputId": "7c130798-1cb3-43a6-8de1-5dd91d3bd633",
        "colab": {
          "base_uri": "https://localhost:8080/",
          "height": 58
        }
      },
      "execution_count": 37,
      "outputs": [
        {
          "output_type": "execute_result",
          "data": {
            "text/latex": "$\\displaystyle \\frac{4 x^{2} - x + 4}{\\sqrt{x^{2} + 2}}$",
            "text/plain": [
              "(4*x**2 - x + 4)/sqrt(x**2 + 2)"
            ]
          },
          "metadata": {},
          "execution_count": 37
        }
      ]
    },
    {
      "cell_type": "markdown",
      "source": [
        "#bài 7"
      ],
      "metadata": {
        "id": "mv8gAIG8AGna"
      }
    },
    {
      "cell_type": "code",
      "source": [
        "f6 = cos(2*x)+cos(4*x)+sin(5*x)\n",
        "f6"
      ],
      "metadata": {
        "id": "qRymofNmAHeP",
        "outputId": "c9a25102-a411-41c6-c520-de438dfad577",
        "colab": {
          "base_uri": "https://localhost:8080/",
          "height": 39
        }
      },
      "execution_count": 38,
      "outputs": [
        {
          "output_type": "execute_result",
          "data": {
            "text/latex": "$\\displaystyle \\sin{\\left(5 x \\right)} + \\cos{\\left(2 x \\right)} + \\cos{\\left(4 x \\right)}$",
            "text/plain": [
              "sin(5*x) + cos(2*x) + cos(4*x)"
            ]
          },
          "metadata": {},
          "execution_count": 38
        }
      ]
    },
    {
      "cell_type": "code",
      "source": [
        "d6 = Derivative(f6,x).doit()\n",
        "d6"
      ],
      "metadata": {
        "id": "SirRArQ4AA0a",
        "outputId": "7c2b458e-b567-4c70-8113-db712c8db19d",
        "colab": {
          "base_uri": "https://localhost:8080/",
          "height": 39
        }
      },
      "execution_count": 40,
      "outputs": [
        {
          "output_type": "execute_result",
          "data": {
            "text/latex": "$\\displaystyle - 2 \\sin{\\left(2 x \\right)} - 4 \\sin{\\left(4 x \\right)} + 5 \\cos{\\left(5 x \\right)}$",
            "text/plain": [
              "-2*sin(2*x) - 4*sin(4*x) + 5*cos(5*x)"
            ]
          },
          "metadata": {},
          "execution_count": 40
        }
      ]
    },
    {
      "cell_type": "markdown",
      "source": [
        "#bài 8"
      ],
      "metadata": {
        "id": "9pq6MqSzATs9"
      }
    },
    {
      "cell_type": "code",
      "source": [
        "f7 = sqrt(cos(x))\n",
        "f7"
      ],
      "metadata": {
        "id": "5giAbAtQAMth",
        "outputId": "6db88d57-90df-4f4b-d1b1-a2ef52c4aa57",
        "colab": {
          "base_uri": "https://localhost:8080/",
          "height": 38
        }
      },
      "execution_count": 41,
      "outputs": [
        {
          "output_type": "execute_result",
          "data": {
            "text/latex": "$\\displaystyle \\sqrt{\\cos{\\left(x \\right)}}$",
            "text/plain": [
              "sqrt(cos(x))"
            ]
          },
          "metadata": {},
          "execution_count": 41
        }
      ]
    },
    {
      "cell_type": "code",
      "source": [
        "d7 = Derivative(f7,x).doit()\n",
        "d7"
      ],
      "metadata": {
        "id": "7Js1HYlAAbjw",
        "outputId": "fbbf9436-d308-48a6-df39-9737ff25195d",
        "colab": {
          "base_uri": "https://localhost:8080/",
          "height": 60
        }
      },
      "execution_count": 42,
      "outputs": [
        {
          "output_type": "execute_result",
          "data": {
            "text/latex": "$\\displaystyle - \\frac{\\sin{\\left(x \\right)}}{2 \\sqrt{\\cos{\\left(x \\right)}}}$",
            "text/plain": [
              "-sin(x)/(2*sqrt(cos(x)))"
            ]
          },
          "metadata": {},
          "execution_count": 42
        }
      ]
    },
    {
      "cell_type": "markdown",
      "source": [
        "#bài 9 "
      ],
      "metadata": {
        "id": "p6iq2CUpAc9E"
      }
    },
    {
      "cell_type": "code",
      "source": [
        "f8 = cot(x)-3*x+2\n",
        "f8"
      ],
      "metadata": {
        "id": "xx5CUK4JAfEk",
        "outputId": "8b1449f3-180b-4025-dc9a-624f7c971d4b",
        "colab": {
          "base_uri": "https://localhost:8080/",
          "height": 39
        }
      },
      "execution_count": 43,
      "outputs": [
        {
          "output_type": "execute_result",
          "data": {
            "text/latex": "$\\displaystyle - 3 x + \\cot{\\left(x \\right)} + 2$",
            "text/plain": [
              "-3*x + cot(x) + 2"
            ]
          },
          "metadata": {},
          "execution_count": 43
        }
      ]
    },
    {
      "cell_type": "code",
      "source": [
        "d8 = Derivative(f8,x).doit()\n",
        "d8"
      ],
      "metadata": {
        "id": "gVEy9xztAi78",
        "outputId": "8d86ad9b-122b-4f14-f150-3a8aa40dba93",
        "colab": {
          "base_uri": "https://localhost:8080/",
          "height": 39
        }
      },
      "execution_count": 44,
      "outputs": [
        {
          "output_type": "execute_result",
          "data": {
            "text/latex": "$\\displaystyle - \\cot^{2}{\\left(x \\right)} - 4$",
            "text/plain": [
              "-cot(x)**2 - 4"
            ]
          },
          "metadata": {},
          "execution_count": 44
        }
      ]
    },
    {
      "cell_type": "markdown",
      "source": [
        "#bài 10"
      ],
      "metadata": {
        "id": "CpYcs2DHAmXx"
      }
    },
    {
      "cell_type": "code",
      "source": [
        "f9 = x**4 + 2*sqrt(x)\n",
        "f9"
      ],
      "metadata": {
        "id": "Bcx5Clb6Am6N",
        "outputId": "217e18a8-8e2e-445a-95fe-8cbd87d9590c",
        "colab": {
          "base_uri": "https://localhost:8080/",
          "height": 39
        }
      },
      "execution_count": 45,
      "outputs": [
        {
          "output_type": "execute_result",
          "data": {
            "text/latex": "$\\displaystyle 2 \\sqrt{x} + x^{4}$",
            "text/plain": [
              "2*sqrt(x) + x**4"
            ]
          },
          "metadata": {},
          "execution_count": 45
        }
      ]
    },
    {
      "cell_type": "code",
      "source": [
        "d9 = Derivative(f9,x).doit()\n",
        "d9"
      ],
      "metadata": {
        "id": "bM76EZ7yAtri",
        "outputId": "f1ccbd13-ad30-40db-b821-7d518c31c683",
        "colab": {
          "base_uri": "https://localhost:8080/",
          "height": 55
        }
      },
      "execution_count": 46,
      "outputs": [
        {
          "output_type": "execute_result",
          "data": {
            "text/latex": "$\\displaystyle 4 x^{3} + \\frac{1}{\\sqrt{x}}$",
            "text/plain": [
              "4*x**3 + 1/sqrt(x)"
            ]
          },
          "metadata": {},
          "execution_count": 46
        }
      ]
    }
  ]
}