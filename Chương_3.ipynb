{
  "nbformat": 4,
  "nbformat_minor": 0,
  "metadata": {
    "colab": {
      "name": "Chương 3.ipynb",
      "provenance": [],
      "authorship_tag": "ABX9TyM9qJyqxZsMiGKtlMvW7f0k",
      "include_colab_link": true
    },
    "kernelspec": {
      "name": "python3",
      "display_name": "Python 3"
    },
    "language_info": {
      "name": "python"
    }
  },
  "cells": [
    {
      "cell_type": "markdown",
      "metadata": {
        "id": "view-in-github",
        "colab_type": "text"
      },
      "source": [
        "<a href=\"https://colab.research.google.com/github/QuocCuong2709/Thuc-hanh-toan-CC/blob/main/Ch%C6%B0%C6%A1ng_3.ipynb\" target=\"_parent\"><img src=\"https://colab.research.google.com/assets/colab-badge.svg\" alt=\"Open In Colab\"/></a>"
      ]
    },
    {
      "cell_type": "markdown",
      "source": [
        "#Chương 3"
      ],
      "metadata": {
        "id": "D5zd45wLRYJj"
      }
    },
    {
      "cell_type": "markdown",
      "source": [
        "#Thực hành 1"
      ],
      "metadata": {
        "id": "rpBdQt8kTYWO"
      }
    },
    {
      "cell_type": "code",
      "source": [
        "\n",
        "def luythua(x,n):\n",
        "    ketqua = 1\n",
        "    for i in range(n):\n",
        "      ketqua=ketqua*x\n",
        "    return ketqua\n",
        "\n"
      ],
      "metadata": {
        "id": "8SoOE-spRXfl"
      },
      "execution_count": null,
      "outputs": []
    },
    {
      "cell_type": "code",
      "source": [
        "luythua(2,1)"
      ],
      "metadata": {
        "colab": {
          "base_uri": "https://localhost:8080/"
        },
        "id": "_motMGUaTBSk",
        "outputId": "a2d8d560-3e4d-401a-cb58-9d4754782212"
      },
      "execution_count": null,
      "outputs": [
        {
          "output_type": "execute_result",
          "data": {
            "text/plain": [
              "2"
            ]
          },
          "metadata": {},
          "execution_count": 10
        }
      ]
    },
    {
      "cell_type": "code",
      "source": [
        "luythua(2,0)"
      ],
      "metadata": {
        "colab": {
          "base_uri": "https://localhost:8080/"
        },
        "id": "yN-5Zl2KTHyd",
        "outputId": "65ba8877-52ad-4280-daed-a6f127010fc5"
      },
      "execution_count": null,
      "outputs": [
        {
          "output_type": "execute_result",
          "data": {
            "text/plain": [
              "1"
            ]
          },
          "metadata": {},
          "execution_count": 11
        }
      ]
    },
    {
      "cell_type": "markdown",
      "source": [
        "#Thực hành 2: lỗi vầ cơ chế"
      ],
      "metadata": {
        "id": "qJ_rdFVgRXsr"
      }
    },
    {
      "cell_type": "code",
      "source": [
        "while 1 = 2:"
      ],
      "metadata": {
        "colab": {
          "base_uri": "https://localhost:8080/",
          "height": 130
        },
        "id": "P63w60lTTfS6",
        "outputId": "32e69c90-e23c-4344-d8e2-80fa717d0d71"
      },
      "execution_count": null,
      "outputs": [
        {
          "output_type": "error",
          "ename": "SyntaxError",
          "evalue": "ignored",
          "traceback": [
            "\u001b[0;36m  File \u001b[0;32m\"<ipython-input-24-03efd44ee389>\"\u001b[0;36m, line \u001b[0;32m1\u001b[0m\n\u001b[0;31m    while 1 = 2:\u001b[0m\n\u001b[0m            ^\u001b[0m\n\u001b[0;31mSyntaxError\u001b[0m\u001b[0;31m:\u001b[0m invalid syntax\n"
          ]
        }
      ]
    },
    {
      "cell_type": "code",
      "source": [
        "10*(1/10)"
      ],
      "metadata": {
        "colab": {
          "base_uri": "https://localhost:8080/"
        },
        "id": "28aEmRO6U_q8",
        "outputId": "3105035e-503b-4630-c579-9dfa434446d6"
      },
      "execution_count": null,
      "outputs": [
        {
          "output_type": "execute_result",
          "data": {
            "text/plain": [
              "1.0"
            ]
          },
          "metadata": {},
          "execution_count": 25
        }
      ]
    },
    {
      "cell_type": "markdown",
      "source": [
        "#Thực hành 3 + 4"
      ],
      "metadata": {
        "id": "lyQ5i4KLVOnf"
      }
    },
    {
      "cell_type": "code",
      "source": [
        "x= int(input('Vui lòng nhập số: '))"
      ],
      "metadata": {
        "colab": {
          "base_uri": "https://localhost:8080/"
        },
        "id": "lDck8BAiVTP8",
        "outputId": "d442f641-3443-448a-f363-02431b3da2fa"
      },
      "execution_count": null,
      "outputs": [
        {
          "name": "stdout",
          "output_type": "stream",
          "text": [
            "Vui lòng nhập số: 1\n"
          ]
        }
      ]
    },
    {
      "cell_type": "code",
      "source": [
        "while True:\n",
        "  try:\n",
        "    x= int(input('Vui lòng nhập số: '))\n",
        "    break\n",
        "  except :\n",
        "    print ('Số vưa nhập sai')\n",
        "  else:\n",
        "    print('Số vừa nhập là '+ str(x))\n",
        "    break\n",
        "  finally :\n",
        "    print('Đã hoàn thành chương trình')\n",
        "    \n"
      ],
      "metadata": {
        "colab": {
          "base_uri": "https://localhost:8080/"
        },
        "id": "DbgBkatEVzdK",
        "outputId": "6da8b106-b7b1-46e4-e491-02b42224b416"
      },
      "execution_count": null,
      "outputs": [
        {
          "output_type": "stream",
          "name": "stdout",
          "text": [
            "Vui lòng nhập số: a\n",
            "Số vưa nhập sai\n",
            "Đã hoàn thành chương trình\n",
            "Vui lòng nhập số: 1\n",
            "Đã hoàn thành chương trình\n"
          ]
        }
      ]
    },
    {
      "cell_type": "markdown",
      "source": [
        "#Thực hành 5"
      ],
      "metadata": {
        "id": "sXhu_raqeSDc"
      }
    },
    {
      "cell_type": "code",
      "source": [
        "def frange (batdau,ketthuc,buocnhay):\n",
        "  day_ketqua=[]\n",
        "  while batdau < ketthuc:\n",
        "    day_ketqua.append(batdau)\n",
        "    batdau= batdau+ buocnhay\n",
        "  return day_ketqua\n"
      ],
      "metadata": {
        "id": "985KKA-pfRlI"
      },
      "execution_count": null,
      "outputs": []
    },
    {
      "cell_type": "code",
      "source": [
        "A = frange(0,2,0.2) \n",
        "A\n"
      ],
      "metadata": {
        "colab": {
          "base_uri": "https://localhost:8080/"
        },
        "id": "Wx-yo-e5eQio",
        "outputId": "7535fc54-394c-4fb3-c3ad-da2d1a1d272b"
      },
      "execution_count": null,
      "outputs": [
        {
          "output_type": "execute_result",
          "data": {
            "text/plain": [
              "[0,\n",
              " 0.2,\n",
              " 0.4,\n",
              " 0.6000000000000001,\n",
              " 0.8,\n",
              " 1.0,\n",
              " 1.2,\n",
              " 1.4,\n",
              " 1.5999999999999999,\n",
              " 1.7999999999999998,\n",
              " 1.9999999999999998]"
            ]
          },
          "metadata": {},
          "execution_count": 31
        }
      ]
    },
    {
      "cell_type": "markdown",
      "source": [
        "#Thực hành 6"
      ],
      "metadata": {
        "id": "q3ded2jBgxvd"
      }
    },
    {
      "cell_type": "code",
      "source": [
        "from matplotlib import pyplot as plt"
      ],
      "metadata": {
        "id": "IQFmsxTDg0mw"
      },
      "execution_count": null,
      "outputs": []
    },
    {
      "cell_type": "code",
      "source": [
        "import math"
      ],
      "metadata": {
        "id": "kthcXpqthLBR"
      },
      "execution_count": null,
      "outputs": []
    },
    {
      "cell_type": "code",
      "source": [
        "def draw_graph(x,y):\n",
        "  plt.plot(x,y)\n",
        "  plt.xlabel('Trục X')\n",
        "  plt.ylabel('Trục y')\n",
        "  plt.title('Do thi bai toan nem qua bong ')\n"
      ],
      "metadata": {
        "id": "59Dma40shQM7"
      },
      "execution_count": null,
      "outputs": []
    },
    {
      "cell_type": "code",
      "source": [
        "def frange (batdau,ketthuc,buocnhay):\n",
        "  day_ketqua=[]\n",
        "  while batdau < ketthuc:\n",
        "    day_ketqua.append(batdau)\n",
        "    batdau= batdau+ buocnhay\n",
        "  return day_ketqua\n"
      ],
      "metadata": {
        "id": "AXPPUiGyihSp"
      },
      "execution_count": null,
      "outputs": []
    },
    {
      "cell_type": "code",
      "source": [
        "def draw_trajactory(u,theta):\n",
        "  #gia toc trong truong\n",
        "  g=9.8\n",
        "  #góc bay\n",
        "  theta=math.radians(theta)\n",
        "  #thời gian bay\n",
        "  t_bay=2*u*math.sin(theta)/g\n",
        "  #tính toán khoảng cách thời gian\n",
        "  intervals= frange(0,t_bay,0.001)\n",
        "  #danh sach toa do x và y\n",
        "  x=[]\n",
        "  y=[]\n",
        "  for t in intervals:\n",
        "    x.append(u*math.cos(theta)*t)\n",
        "    y.append(u*math.sin(theta)*t-0.5*g*t*t)\n",
        "    draw_graph(x,y)\n",
        "    \n",
        "\n",
        "\n"
      ],
      "metadata": {
        "id": "YLcdAnetivB2"
      },
      "execution_count": null,
      "outputs": []
    },
    {
      "cell_type": "code",
      "source": [
        ""
      ],
      "metadata": {
        "id": "HbWz1uy5nE2g"
      },
      "execution_count": null,
      "outputs": []
    },
    {
      "cell_type": "markdown",
      "source": [
        "#**BÀI TẬP**"
      ],
      "metadata": {
        "id": "QLepyUXTBoVc"
      }
    },
    {
      "cell_type": "markdown",
      "source": [
        "#bài 1:"
      ],
      "metadata": {
        "id": "gfZYBT08BsGR"
      }
    },
    {
      "cell_type": "code",
      "source": [
        "from matplotlib import pyplot as plt \n",
        "import math "
      ],
      "metadata": {
        "id": "I74ovmSaByLq"
      },
      "execution_count": 1,
      "outputs": []
    },
    {
      "cell_type": "code",
      "source": [
        "def draw_graph(x,y):\n",
        "  plt.plot(x,y)\n",
        "  plt.xlabel('Trục X')\n",
        "  plt.ylabel('Trục Y')\n",
        "  plt.title('Đồ thị bài toán ném vật thể bay')"
      ],
      "metadata": {
        "id": "ieFtyPjRB0mX"
      },
      "execution_count": 2,
      "outputs": []
    },
    {
      "cell_type": "code",
      "source": [
        "def frange(batdau, ketthuc, buocnhay):\n",
        "  day_ketqua = []\n",
        "  while batdau < ketthuc:\n",
        "    day_ketqua.append(batdau)\n",
        "    batdau = batdau + buocnhay\n",
        "  return day_ketqua"
      ],
      "metadata": {
        "id": "9MK8DYOkB3vE"
      },
      "execution_count": 3,
      "outputs": []
    },
    {
      "cell_type": "code",
      "source": [
        "def draw_trajectory(u,theta):\n",
        "  g = 9.8\n",
        "  theta = math.radians(theta)\n",
        "  # Thời gian bay\n",
        "  t_flight = 2*u*math.sin(theta)/g\n",
        "  # tính toán khoảng cách thời gian\n",
        "  buoc_nhay = frange(0, t_flight, 0.0001)\n",
        "  x = []\n",
        "  y = []\n",
        "  for t in buoc_nhay:\n",
        "    x.append(u*math.cos(theta)*t)\n",
        "    y.append(u*math.sin(theta)*t - 0.5*g*t**2)\n",
        "  draw_graph(x,y)\n",
        "try:\n",
        "  u = 30\n",
        "  theta = float(input('Nhập góc bay '))\n",
        "except ValueError:\n",
        "  print('Nhập các giá trị sai! ')\n",
        "else:\n",
        "  draw_trajectory(u,theta)\n",
        "  plt.show()\n",
        "finally:\n",
        "  print('Hoàn thành chương trình! ')"
      ],
      "metadata": {
        "id": "lvehGAiLCAcA",
        "outputId": "aefa5127-bd5e-4f94-c1ff-6c1d88c72a07",
        "colab": {
          "base_uri": "https://localhost:8080/",
          "height": 330
        }
      },
      "execution_count": 4,
      "outputs": [
        {
          "name": "stdout",
          "output_type": "stream",
          "text": [
            "Nhập góc bay 40\n"
          ]
        },
        {
          "output_type": "display_data",
          "data": {
            "image/png": "[encoded data removed]",
            "text/plain": [
              "<Figure size 432x288 with 1 Axes>"
            ]
          },
          "metadata": {
            "needs_background": "light"
          }
        },
        {
          "output_type": "stream",
          "name": "stdout",
          "text": [
            "Hoàn thành chương trình! \n"
          ]
        }
      ]
    },
    {
      "cell_type": "markdown",
      "source": [
        "#Bài 2:"
      ],
      "metadata": {
        "id": "udnF3DhVCGqF"
      }
    },
    {
      "cell_type": "code",
      "source": [
        "from matplotlib import pyplot as plt \n",
        "import math "
      ],
      "metadata": {
        "id": "r1ddHDwdCGHU"
      },
      "execution_count": 6,
      "outputs": []
    },
    {
      "cell_type": "code",
      "source": [
        "def draw_graph(x,y):\n",
        "  plt.plot(x,y)\n",
        "  plt.xlabel('Trục X')\n",
        "  plt.ylabel('Trục Y')\n",
        "  plt.title('Đồ thị định luật hấp dẫn Newton giữa hai vật thể')\n",
        "\n"
      ],
      "metadata": {
        "id": "2pSdhnr8CRkg"
      },
      "execution_count": 7,
      "outputs": []
    },
    {
      "cell_type": "code",
      "source": [
        "def frange(batdau, ketthuc, buocnhay):\n",
        "  day_ketqua = []\n",
        "  while batdau < ketthuc:\n",
        "    day_ketqua.append(batdau)\n",
        "    batdau = batdau + buocnhay\n",
        "  return day_ketqua\n",
        "\n"
      ],
      "metadata": {
        "id": "KwSehBqeCUsD"
      },
      "execution_count": 8,
      "outputs": []
    },
    {
      "cell_type": "code",
      "source": [
        "def draw_trajectory(r,F):\n",
        "  G = 6.674e-11\n",
        "  m1 = 0.5\n",
        "  m2 = 1.5\n",
        "  r = 100\n",
        "  buoc_nhay = frange(100, 1001, 50)\n",
        "  x = []\n",
        "  y = []\n",
        "  for t in buoc_nhay:\n",
        "    r = r + 50\n",
        "    x.append(r)\n",
        "    y.append(G*m1*m2/(r**2))\n",
        "  draw_graph(x,y)\n",
        "try:\n",
        "  r = 100\n",
        "  F = float(input('Nhập lực '))\n",
        "except ValueError:\n",
        "  print('Nhập các giá trị sai! ')\n",
        "else:\n",
        "  draw_trajectory(r,F)\n",
        "  plt.show()\n",
        "finally:\n",
        "  print('Hoàn thành chương trình! ')"
      ],
      "metadata": {
        "id": "pdI-T4uDCZpC",
        "outputId": "04276571-2e11-42f9-89dd-acc1a4b12e95",
        "colab": {
          "base_uri": "https://localhost:8080/",
          "height": 330
        }
      },
      "execution_count": 9,
      "outputs": [
        {
          "name": "stdout",
          "output_type": "stream",
          "text": [
            "Nhập lực 30\n"
          ]
        },
        {
          "output_type": "display_data",
          "data": {
            "image/png": "[encoded data removed]",
            "text/plain": [
              "<Figure size 432x288 with 1 Axes>"
            ]
          },
          "metadata": {
            "needs_background": "light"
          }
        },
        {
          "output_type": "stream",
          "name": "stdout",
          "text": [
            "Hoàn thành chương trình! \n"
          ]
        }
      ]
    },
    {
      "cell_type": "markdown",
      "source": [
        ""
      ],
      "metadata": {
        "id": "6SiHX540CCYd"
      }
    }
  ]
}