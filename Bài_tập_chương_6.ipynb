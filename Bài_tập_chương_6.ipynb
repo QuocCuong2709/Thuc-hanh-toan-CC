{
  "nbformat": 4,
  "nbformat_minor": 0,
  "metadata": {
    "colab": {
      "name": "Bài tập chương 6.ipynb",
      "provenance": [],
      "collapsed_sections": [],
      "authorship_tag": "ABX9TyPPRvYho180jfqMjW5h5y5S",
      "include_colab_link": true
    },
    "kernelspec": {
      "name": "python3",
      "display_name": "Python 3"
    },
    "language_info": {
      "name": "python"
    }
  },
  "cells": [
    {
      "cell_type": "markdown",
      "metadata": {
        "id": "view-in-github",
        "colab_type": "text"
      },
      "source": [
        "<a href=\"https://colab.research.google.com/github/QuocCuong2709/Thuc-hanh-toan-CC/blob/main/B%C3%A0i_t%E1%BA%ADp_ch%C6%B0%C6%A1ng_6.ipynb\" target=\"_parent\"><img src=\"https://colab.research.google.com/assets/colab-badge.svg\" alt=\"Open In Colab\"/></a>"
      ]
    },
    {
      "cell_type": "markdown",
      "source": [
        "# **Bài tập chương 6**"
      ],
      "metadata": {
        "id": "JhLe8MZ1jHw6"
      }
    },
    {
      "cell_type": "markdown",
      "source": [
        "***bài 1***"
      ],
      "metadata": {
        "id": "B5CQkZWIjOF5"
      }
    },
    {
      "cell_type": "code",
      "execution_count": 1,
      "metadata": {
        "colab": {
          "base_uri": "https://localhost:8080/"
        },
        "id": "CCIRh_SLi_Em",
        "outputId": "4bafa9dd-8c34-49f4-e953-15bbf38c2b6b"
      },
      "outputs": [
        {
          "output_type": "execute_result",
          "data": {
            "text/plain": [
              "7.999999999999993"
            ]
          },
          "metadata": {},
          "execution_count": 1
        }
      ],
      "source": [
        "#1\n",
        "def timgioihan1(n):\n",
        "  if n == 1:\n",
        "    return 4\n",
        "  else:\n",
        "    return 1.0/2 * (timgioihan1(n-1)+8)\n",
        "\n",
        "timgioihan1(50)"
      ]
    },
    {
      "cell_type": "code",
      "source": [
        "#2\n",
        "def timgioihan2(n):\n",
        "  if n == 1:\n",
        "    return 5\n",
        "  else:\n",
        "    return 2-1/(2+timgioihan2(n-1))\n",
        "timgioihan2(50)"
      ],
      "metadata": {
        "colab": {
          "base_uri": "https://localhost:8080/"
        },
        "id": "GHMX8y_vjYVg",
        "outputId": "ff480fd4-72b1-4dca-aa3d-70b1d9c52b2c"
      },
      "execution_count": 2,
      "outputs": [
        {
          "output_type": "execute_result",
          "data": {
            "text/plain": [
              "1.7320508075688772"
            ]
          },
          "metadata": {},
          "execution_count": 2
        }
      ]
    },
    {
      "cell_type": "code",
      "source": [
        "#3\n",
        "from sympy import *\n",
        "def bai3(n):\n",
        "  if n==1:\n",
        "    return 3*pi/2\n",
        "  else:\n",
        "    return bai3(n-1) + (sin(bai3(n-1))/exp(bai3(n-1)))\n",
        "bai3(5)"
      ],
      "metadata": {
        "colab": {
          "base_uri": "https://localhost:8080/",
          "height": 266
        },
        "id": "1ru2pa9JjcoY",
        "outputId": "4eed0778-e142-4c21-e7b2-5736bbea7746"
      },
      "execution_count": 5,
      "outputs": [
        {
          "output_type": "execute_result",
          "data": {
            "text/plain": [
              "-exp(-3*pi/2 + exp(-3*pi/2) + exp(-3*pi/2 + exp(-3*pi/2))*cos(exp(-3*pi/2)) + exp(-3*pi/2 + exp(-3*pi/2) + exp(-3*pi/2 + exp(-3*pi/2))*cos(exp(-3*pi/2)))*cos(exp(-3*pi/2) + exp(-3*pi/2 + exp(-3*pi/2))*cos(exp(-3*pi/2))))*cos(exp(-3*pi/2) + exp(-3*pi/2 + exp(-3*pi/2))*cos(exp(-3*pi/2)) + exp(-3*pi/2 + exp(-3*pi/2) + exp(-3*pi/2 + exp(-3*pi/2))*cos(exp(-3*pi/2)))*cos(exp(-3*pi/2) + exp(-3*pi/2 + exp(-3*pi/2))*cos(exp(-3*pi/2)))) - exp(-3*pi/2 + exp(-3*pi/2) + exp(-3*pi/2 + exp(-3*pi/2))*cos(exp(-3*pi/2)))*cos(exp(-3*pi/2) + exp(-3*pi/2 + exp(-3*pi/2))*cos(exp(-3*pi/2))) - exp(-3*pi/2 + exp(-3*pi/2))*cos(exp(-3*pi/2)) - exp(-3*pi/2) + 3*pi/2"
            ],
            "text/latex": "$\\displaystyle - \\frac{\\cos{\\left(e^{- \\frac{3 \\pi}{2}} + \\frac{\\cos{\\left(e^{- \\frac{3 \\pi}{2}} \\right)}}{e^{- \\frac{1}{e^{\\frac{3 \\pi}{2}}} + \\frac{3 \\pi}{2}}} + \\frac{\\cos{\\left(e^{- \\frac{3 \\pi}{2}} + \\frac{\\cos{\\left(e^{- \\frac{3 \\pi}{2}} \\right)}}{e^{- \\frac{1}{e^{\\frac{3 \\pi}{2}}} + \\frac{3 \\pi}{2}}} \\right)}}{e^{- \\frac{\\cos{\\left(e^{- \\frac{3 \\pi}{2}} \\right)}}{e^{- \\frac{1}{e^{\\frac{3 \\pi}{2}}} + \\frac{3 \\pi}{2}}} - e^{- \\frac{3 \\pi}{2}} + \\frac{3 \\pi}{2}}} \\right)}}{e^{- \\frac{\\cos{\\left(e^{- \\frac{3 \\pi}{2}} + \\frac{\\cos{\\left(e^{- \\frac{3 \\pi}{2}} \\right)}}{e^{- \\frac{1}{e^{\\frac{3 \\pi}{2}}} + \\frac{3 \\pi}{2}}} \\right)}}{e^{- \\frac{\\cos{\\left(e^{- \\frac{3 \\pi}{2}} \\right)}}{e^{- \\frac{1}{e^{\\frac{3 \\pi}{2}}} + \\frac{3 \\pi}{2}}} - e^{- \\frac{3 \\pi}{2}} + \\frac{3 \\pi}{2}}} - \\frac{\\cos{\\left(e^{- \\frac{3 \\pi}{2}} \\right)}}{e^{- \\frac{1}{e^{\\frac{3 \\pi}{2}}} + \\frac{3 \\pi}{2}}} - e^{- \\frac{3 \\pi}{2}} + \\frac{3 \\pi}{2}}} - \\frac{\\cos{\\left(e^{- \\frac{3 \\pi}{2}} + \\frac{\\cos{\\left(e^{- \\frac{3 \\pi}{2}} \\right)}}{e^{- \\frac{1}{e^{\\frac{3 \\pi}{2}}} + \\frac{3 \\pi}{2}}} \\right)}}{e^{- \\frac{\\cos{\\left(e^{- \\frac{3 \\pi}{2}} \\right)}}{e^{- \\frac{1}{e^{\\frac{3 \\pi}{2}}} + \\frac{3 \\pi}{2}}} - e^{- \\frac{3 \\pi}{2}} + \\frac{3 \\pi}{2}}} - \\frac{\\cos{\\left(e^{- \\frac{3 \\pi}{2}} \\right)}}{e^{- \\frac{1}{e^{\\frac{3 \\pi}{2}}} + \\frac{3 \\pi}{2}}} - e^{- \\frac{3 \\pi}{2}} + \\frac{3 \\pi}{2}$"
          },
          "metadata": {},
          "execution_count": 5
        }
      ]
    },
    {
      "cell_type": "markdown",
      "source": [
        "***bài tập 2:***"
      ],
      "metadata": {
        "id": "wf2XirkSjqTo"
      }
    },
    {
      "cell_type": "code",
      "source": [
        "from sympy import Derivative, Symbol, solve, ln\n",
        "W = Symbol('W')\n",
        "f = W*(0.5-0.05*ln(W))\n",
        "d1=solve(f)\n",
        "print(f'Khối lượng mg khi cân bằng là {d1}')\n",
        "f1 = Derivative(f,W).doit()\n",
        "d2 = solve(f1)\n",
        "print(f'Tỉ lệ tăng nhanh nhất của khối tế bào ung thư là {d2}')"
      ],
      "metadata": {
        "colab": {
          "base_uri": "https://localhost:8080/"
        },
        "id": "jp957o_2jtww",
        "outputId": "168d51e8-35e2-42c9-b41d-e2231f755d8a"
      },
      "execution_count": 6,
      "outputs": [
        {
          "output_type": "stream",
          "name": "stdout",
          "text": [
            "Khối lượng mg khi cân bằng là [0.0, 22026.4657948067]\n",
            "Tỉ lệ tăng nhanh nhất của khối tế bào ung thư là [8103.08392757538]\n"
          ]
        }
      ]
    }
  ]
}